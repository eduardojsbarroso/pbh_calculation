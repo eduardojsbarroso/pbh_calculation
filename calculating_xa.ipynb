{
 "cells": [
  {
   "cell_type": "code",
   "execution_count": 2,
   "id": "8d4b0a37-2b14-41fd-bef7-13a49858dd7a",
   "metadata": {},
   "outputs": [],
   "source": [
    "import numpy as np\n",
    "from scipy.special import ellipk, ellipkinc"
   ]
  },
  {
   "cell_type": "code",
   "execution_count": 7,
   "id": "1cb46fa0-c566-4ce7-8381-ddd79b1761bb",
   "metadata": {},
   "outputs": [],
   "source": [
    "def compute_xa(x, y):\n",
    "    t1 = np.sqrt(8./3.) * x\n",
    "    t2 = np.sqrt(3.+x**2 + 3.* np.sqrt(1. + x**2))\n",
    "    arg1_t3 = y\n",
    "    arg2_t3 = np.sqrt(1 + x**2) / (1/2 + x**2/3 + 0.5 * np.sqrt(1+x**2))\n",
    "    t3 = ellipkinc(arg1_t3, arg2_t3)\n",
    "    return t1 * t3 /t2"
   ]
  },
  {
   "cell_type": "code",
   "execution_count": 22,
   "id": "c0d3f742-646e-46e0-9661-fcf64a6684d8",
   "metadata": {},
   "outputs": [
    {
     "name": "stdout",
     "output_type": "stream",
     "text": [
      "1.6329931618509832\n",
      "1.6329931618107585\n"
     ]
    }
   ],
   "source": [
    "x1 = 3.563e-9 /  8.938e-21\n",
    "print(compute_xa(x1, 1))\n",
    "x2 = 3.635e-9 /  9.119e-20\n",
    "print(compute_xa(x2, 1))"
   ]
  },
  {
   "cell_type": "code",
   "execution_count": null,
   "id": "8df5c0e8-fed9-48c7-b48b-c2105d9cb9d3",
   "metadata": {},
   "outputs": [],
   "source": []
  }
 ],
 "metadata": {
  "kernelspec": {
   "display_name": "Python (firecrown20.0)",
   "language": "python",
   "name": "firecrown_20"
  },
  "language_info": {
   "codemirror_mode": {
    "name": "ipython",
    "version": 3
   },
   "file_extension": ".py",
   "mimetype": "text/x-python",
   "name": "python",
   "nbconvert_exporter": "python",
   "pygments_lexer": "ipython3",
   "version": "3.13.0"
  }
 },
 "nbformat": 4,
 "nbformat_minor": 5
}
