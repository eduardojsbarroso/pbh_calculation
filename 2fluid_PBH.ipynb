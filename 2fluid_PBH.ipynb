{
 "cells": [
  {
   "cell_type": "markdown",
   "id": "LL4m1A-ttI4h",
   "metadata": {
    "id": "LL4m1A-ttI4h"
   },
   "source": [
    "# Two Fluid Quantum Cosmological Model: Evolution of the Modes $\\left\\{\\zeta_{k},S_{k},\\Pi_{\\zeta k}, \\Pi_{Sk} \\right\\}$"
   ]
  },
  {
   "cell_type": "markdown",
   "id": "152b1c34",
   "metadata": {
    "id": "152b1c34"
   },
   "source": [
    "## Key Cells"
   ]
  },
  {
   "cell_type": "code",
   "execution_count": 1,
   "id": "Xna_qd5unXpw",
   "metadata": {
    "id": "Xna_qd5unXpw"
   },
   "outputs": [
    {
     "name": "stdout",
     "output_type": "stream",
     "text": [
      "-76.90159880067766\n"
     ]
    },
    {
     "data": {
      "text/plain": [
       "np.float64(-76.46268021252445)"
      ]
     },
     "execution_count": 1,
     "metadata": {},
     "output_type": "execute_result"
    }
   ],
   "source": [
    "# Basic Libraries\n",
    "f1 = 1\n",
    "import sys                                                        # imports the usual sys library\n",
    "import math                                                       # imports the usual math library\n",
    "import numpy as np                                                # imports the Numpy Library\n",
    "from tqdm import tqdm                                             # imports the tqdm library\n",
    "from scipy.integrate import quad                                  # imports the integration command quad from the scipy library\n",
    "import matplotlib as mpl                                          # imports the full Matplotlib Library\n",
    "import matplotlib.pyplot as plt                                   # imports the pyplot module from Matplotlib Library\n",
    "import matplotlib.colors as colors                                # impors the colors module from Matplotlib Library\n",
    "import matplotlib.cm as cmx                                       # imports the cmx module from Matplotlib Library\n",
    "#mpl.rcParams['text.usetex'] = True                                # enables the use of TeX on graphs\n",
    "#plt.rc('text.latex', preamble=r'\\usepackage{amssymb}')            # sets the preamble for TeX\n",
    "\n",
    "\n",
    "# Importing the NumCosmo Library\n",
    "from numcosmo_py import Nc, Ncm                                   # imports the NumCosmo library\n",
    "from numcosmo_py.plotting.tools import set_rc_params_article      # imports Numcosmo plotting tools\n",
    "\n",
    "# Imports useful commands for the 2fluid model\n",
    "import two_fluid_key as tf                                        # imports the two_fluid_key.py file, where the relevant quantities are defined\n",
    "\n",
    "# definition of the model\n",
    "\n",
    "twofluid = Nc.HICosmoQGRW()                                  # defines a cosmological model, which is represented by a NumCosmo object. Then, the relevant cosmological parameters are added to this object\n",
    "\n",
    "# these lines set the relevant cosmological parameters\n",
    "k = 1.0         # sets a fiducial value of k\n",
    "Ωr = 1.0e-5     # abundance of radiation\n",
    "w = 1.0e-10      # equation of state parameter of dark matter\n",
    "xb = 1e30       # inverse of scale factor at the bounce, xb = 1/ab\n",
    "\n",
    "# this lines set the attributes of the cosmological model\n",
    "twofluid.props.w = w                                         # dust/dark matter equation of state parameter\n",
    "twofluid.props.Omegar = Ωr                                   # radiation abundance today\n",
    "twofluid.props.Omegaw = 1.0 * ( 1.0 - Ωr )                   # dust/dark matter abundance today\n",
    "twofluid.props.xb = xb                                       # inverse scale factor xb=1/ab at the time of the bounce\n",
    "\n",
    "# evolution of the model\n",
    "#twofluid_c = tf.model_evol(twofluid,alpha_c,k)               # evolves the equations of motion for during the contraction phase using the twofluid_key.py commands\n",
    "\n",
    "# precision parameters\n",
    "p1 = 1.0e-4\n",
    "p2 = 0.0\n",
    "\n",
    "k_RH = 2\n",
    "zeta1 = tf.mode_1(k_RH,twofluid, p1, p2, -250 )\n",
    "zeta1.t[0]"
   ]
  },
  {
   "cell_type": "markdown",
   "id": "SSYdpVinZzn1",
   "metadata": {
    "id": "SSYdpVinZzn1"
   },
   "source": [
    "## Introduction"
   ]
  },
  {
   "cell_type": "markdown",
   "id": "9VIf518scRQW",
   "metadata": {
    "id": "9VIf518scRQW"
   },
   "source": [
    "In this notebook we shall analyze the evolution of the adiabatic and entropy modes $\\zeta_{k}, S_{k}$ associated to cosmological perturbations of the two fluid quantum cosmological model. Reference $\\tt \\text{arXiv:1510.06628}$ analyzes the cosmological perturbations formalism for $N$ fluid models. In the 2 fluid case, the obtained perturbative Hamiltonian in Fourier space is given explicitly by\n",
    "\n",
    "\\begin{align}\n",
    "    \\delta {\\cal H}^{(2,s)}_{k} & = \\frac{1}{2m_{z}}\\Pi_{\\zeta k}^{2} + \\frac{1}{2m_{S}}\\Pi_{Sk}^{2} + \\left({ \\frac{ \\bar{c}_{n} }{ \\bar{c}_{S}\\bar{c}_{m} } }^{2}\\frac{1}{m_{\\zeta}m_{S}}\\frac{1}{NH}\\right)\\Pi_{\\zeta k}\\Pi_{Sk} \\\\\n",
    "    %\n",
    "    & \\, \\, + \\frac{1}{2}m_{z}\\nu_{\\zeta_{k}}^{2} \\zeta^{2} + \\frac{1}{2}m_{S}\\nu_{S}^{2}S_{k}^{2} \\, ,\n",
    "\\end{align}\n",
    "\n",
    "where $\\zeta_{k}$ and $Q_{k}$ denote adiabatic and entropy perturbation modes, with $\\Pi_{\\zeta k}, \\Pi_{S k}$ being their associated momenta. We also introduced\n",
    "\n",
    "\\begin{align*}\n",
    "    m_{\\zeta}  \\equiv \\frac{ a^{3}({ \\bar{\\rho} + \\bar{p} }) }{N\\bar{c}_{S}^{2}\\bar{H}^{2} }\\, , \\hspace{2.4cm} & \\hspace{-0.1cm} m_{S}  \\equiv \\frac{ 1 }{  N a^{3}\\bar{c}_{m}^2\\bar{\\omega} } \\, ,  \\\\\n",
    "    %\n",
    "    \\nu_{\\zeta}^{2} \\equiv \\bar{c}_{S}^{2}F^{2}_{k} \\, , \\hspace{3.15cm} & \\hspace{0.05cm} \\nu_{S}^{2} \\equiv {c}_{m}^{2}F^{2}_{k} \\, ,  \\\\\n",
    "    %\n",
    "    \\bar{c}_{S}^{2} \\equiv \\bar{c}_{1}^{2}\\cos^{2}\\phi+\\bar{c}_{2}^{2}\\sin^{2}\\phi \\, , \\hspace{1cm} & \\bar{c}_{m}^{2} \\equiv \\bar{c}_{2}^{2}\\cos^{2}\\phi+\\bar{c}_{1}^{2}\\sin^{2}\\phi\n",
    "    \\, .\n",
    "\\end{align*}\n",
    "\n",
    "where $\\bar{\\omega} \\equiv (\\rho_1 + p_1)(\\rho_2 + p_2)/(\\rho + p)$ and $\\bar{c}_{n}^{2} \\equiv \\bar{c}_{1}^{2} - \\bar{c}_{2}^{2}$. Here, for later convenience, we have also introduced the angular variable $\\phi$ and the functions $F_{k}(t)$ by\n",
    "\n",
    "\\begin{equation}\n",
    " \\cos^{2}\\phi \\equiv \\frac{ \\rho_1 + p_1 }{ \\rho + p }\\, ,\n",
    "\\end{equation}\n",
    "\n",
    "\\begin{equation}\n",
    " \\sin^{2}\\phi \\equiv \\frac{ \\rho_2 + p_2 }{ \\rho + p }\\, ,\n",
    "\\end{equation}\n",
    "\n",
    "\\begin{equation}\n",
    " \\hspace{0.8cm} F^{2}_{k} \\equiv \\left({\\frac{ Nk }{ a }}\\right)^{2}\\, .\n",
    "\\end{equation}\n",
    "\n",
    "The angular variable $\\phi$ is associated to the dominant fluid, with $\\phi=0$ denoting domination by the fluid $1$ and $\\phi=\\pi/2$ denoting domination by the fluid $2$.\n",
    "\n",
    "The obtained Hamiltonian for the adiabatic and entropy modes leads to the equations of motion\n",
    "\n",
    "\\begin{align}\n",
    "  \\ddot{\\zeta} + R^{-1}_{H,\\zeta}\\dot{\\zeta} + \\nu^{2}_{\\zeta}\\zeta & = -\\aleph_{\\zeta S}Q + \\beth_{\\zeta S}\\dot{Q} \\, , \\\\\n",
    "  \\ddot{Q} + R^{-1}_{H,S}\\dot{Q} + \\nu^{2}_{S}Q & = -\\aleph_{S\\zeta}\\zeta + \\beth_{S\\zeta}\\dot{\\zeta} \\, , \\\\\n",
    "\\end{align}\n",
    "\n",
    "where we introduced the effective Hubble radius for the adiabatic and entropy modes\n",
    "\n",
    "\\begin{align}\n",
    " R^{-1}_{H,\\zeta} & \\equiv \\left( \\frac{ \\dot{m}_{\\zeta} }{ m_{\\zeta} } + Ym_{S}m_{\\zeta}\\dot{Y} \\right)\\varrho \\, , \\\\\n",
    " R^{-1}_{H,S} & \\equiv \\left( \\frac{ \\dot{m}_{S} }{ m_{S} } + Ym_{S}m_{\\zeta}\\dot{Y} \\right)\\varrho \\, ,\n",
    "\\end{align}\n",
    "\n",
    "and the couplings\n",
    "\n",
    "\\begin{align}\n",
    " \\aleph_{\\zeta S} & \\equiv Ym_{S}\\nu^{2}_{S}\\, , \\, \\,  & \\, \\, \\beth_{\\zeta S} \\equiv \\frac{ m_{s} }{ m_{\\zeta} }\\left( m_{\\zeta}\\dot{Y} + \\dot{m}_{\\zeta}Y \\right)\\varrho  \\, , \\\\\n",
    " \\aleph_{S\\zeta} & \\equiv Ym_{\\zeta}\\nu^2_{\\zeta}\\, , \\, \\,  & \\, \\, \\beth_{S\\zeta} \\equiv \\frac{ m_{\\zeta} }{ m_{s} }\\left( m_{s}\\dot{Y} + \\dot{m}_{s}Y \\right)\\varrho  \\, .\n",
    "\\end{align}\n",
    "\n",
    "where $\\varrho \\equiv (1-Y^{2}m_{S}m_{\\zeta})^{-1} $. It is also relevant to point out the dependence of such terms with respect to the mode index $k$. Since $\\nu_{\\ell}^{2} \\sim k^{2}, m_{\\ell} \\sim k^{0}, Y \\sim k^{0}$, we have the following spectral behavior\n",
    "\n",
    "\\begin{align}\n",
    "  R^{-1}_{H\\ell} & \\sim k^{0}\\, , \\\\\n",
    "  \\aleph_{\\ell\\ell^{\\prime}} & \\sim k^{2}\\, , \\\\\n",
    "  \\beth_{\\ell\\ell^{\\prime}} & \\sim k^{0}\\, ,\n",
    "\\end{align}\n",
    "\n",
    "where $\\ell = \\zeta, Q$ is just a label. This implies that, for large $k$, only the frequency term $\\nu^{2}_{\\ell}$ and the coordinate-coordinate coupling $\\aleph_{\\ell}$ are relevant.\n",
    "\n",
    "In usual cosmological perturbation models, the perturbations are decoupled, which is recovered by setting $Y \\rightarrow 0$, so that the equations have a similar form but with $\\aleph_{ij} = \\beth_{ij} = 0$. One then analyzes two different regimes:\n",
    "\n",
    "\\begin{align}\n",
    "  \\text{ i) Sub-Hubble :} & |R^{-1}_{H, \\ell}| \\ll \\nu_{\\ell} \\implies \\text{oscillatory behavior} \\, , \\\\\n",
    "  \\text{ ii) Super-Hubble :}  & |R^{-1}_{H, \\ell}| \\gg \\nu_{\\ell} \\implies \\text{\"frozen\" behavior} \\, .\n",
    "\\end{align}\n",
    "\n",
    "Also, since $R_{H\\ell} \\sim k^{0}, \\nu^{2}_{\\ell} \\sim k^{2}$, for modes with large enough $k$, they will remain sub-Hubble for most of their evolution, that is\n",
    "\n",
    "\\begin{align}\n",
    "  \\text{ i) UV limit} \\, \\, k \\ll k_{\\text{crit}} \\iff \\text{Sub-Hubble} \\, \\, &  \\implies \\text{oscillatory behavior} \\, , \\\\\n",
    "  \\text{ ii) IR limit} \\, \\, k \\gg k_{\\text{crit}} \\iff \\text{Super-Hubble}  \\, \\, & \\implies \\text{\"frozen\" behavior} \\, ,\n",
    "\\end{align}\n",
    "\n",
    "where we emphasize that this holds only for an interval of the modes time evolution.\n",
    "\n",
    "In this model, however, the couplings $\\aleph_{\\ell}, \\beth_{\\ell}$ are also relevant, and will lead to non-trival effects apart from the usual oscillatory/frozen behavior. In particular, **even in the deep UV limit $k \\gg k_{\\text{crit}}$, the modes will still be coupled by the $\\aleph_{\\ell}$ term**, namely:\n",
    "\n",
    "\\begin{align}\n",
    "  \\ddot{\\zeta} + \\nu^{2}_{\\zeta}\\zeta & = -\\aleph_{\\zeta S}Q \\, , \\\\\n",
    "  \\ddot{Q} + \\nu^{2}_{S}Q & = -\\aleph_{S\\zeta}\\zeta  \\, . \\\\\n",
    "\\end{align}\n",
    "\n",
    "One can also show that, since $\\aleph_{ij} \\propto \\nu_{j}$ and $\\nu_{j}$ is large in the past assuming that modes started in a vacuum like state, we have that $\\aleph_{ij}$ is also large in the past. Therefore, the modes are coupled even in the sub-Hubble/UV limit. This sub-Hubble behavior means that the WKB approximation does not hold and one cannot impose the usual adiabatic vacuum initial conditions.\n",
    "\n",
    "While at classical level the equations of motion could be solved by numerical methods, at quantum level this demands the use of special quantization techniques to define the associated vacuum state and extract predictions, as proposed by $\\tt \\text{arXiv:1510.06628}$ using the Hamiltonian Diagonalization Technique.\n",
    "\n",
    "The technique amounts to define new canonical variables $\\left\\{ Q{1}, Q^{2}, P^{1}, P^{2} \\right\\}$ to diagonalize the perturbative Hamiltonian. Since the obtained canonical transformation is time dependent, the Hamiltonian can only be diagonalized for an initial time instant. However, the coupling between the variables is improved and enables one to define a reasonable vacuum state. For more details, see $\\tt \\text{arXiv:1510.06628}$.\n",
    "\n",
    "Therefore, in this notebook, we analyze the evolution of the modes $\\{\\zeta_{k1}, \\zeta_{k2}, S_{k1}, S_{k2}\\}$ using the initial conditions obtained using the above technique. Using the evolved modes, one may also calculate the adiabatic and entropy power spectra and other correlation functions, which are available on the $\\tt \\text{2fluid_adiabatic.ipynb}$ and $\\tt \\text{2fluid_corr.ipynb}$ files, respectively."
   ]
  },
  {
   "cell_type": "markdown",
   "id": "361aH18Ya3JX",
   "metadata": {
    "id": "361aH18Ya3JX"
   },
   "source": [
    "## Defining the Model"
   ]
  },
  {
   "cell_type": "code",
   "execution_count": 2,
   "id": "H7sD8SvYD_66",
   "metadata": {
    "id": "H7sD8SvYD_66"
   },
   "outputs": [],
   "source": [
    "#from google.colab import drive\n",
    "#drive.mount('/content/drive')"
   ]
  },
  {
   "cell_type": "markdown",
   "id": "nw-_ach4Bipa",
   "metadata": {
    "id": "nw-_ach4Bipa"
   },
   "source": [
    "In this section we briefly define our cosmological model and explicit our choice of parameters. Note that at this point we shall only use fiducial values for the parameters, with their best fit values being determined later using CMB data.\n",
    "\n",
    "We start by defining a time variable to evolve our cosmological model and modes. Since in bouncing models one sets the vacuum initial conditions in the far past where the scale factor $a$ is very large with respect to the scale factor at the bounce $a_{\\text{B}}$, $|a| \\gg a_{B}$, one sees that the model needs to consider different scales for $a$. Due to this fact, we shall use a logarithmic time variable $\\alpha$ defined by\n",
    "\n",
    "$$ \\alpha(a) = \\ln\\left(\\frac{ a_{ \\text{B} } }{ a }\\right) \\, . $$\n",
    "\n",
    "Numerical integration shall then be performed using $\\alpha$, and then converted to $a$, which is achieved by using\n",
    "\n",
    "$$ a(\\alpha) = a_{ \\text{B} }e^{-\\alpha}\\, . $$\n",
    "\n",
    "We shall now implement the interval $\\alpha \\in (-120,10)$, so that the evolution starts in the far past and ends right after the bounce."
   ]
  },
  {
   "cell_type": "code",
   "execution_count": 3,
   "id": "aG0W3fNrY_jZ",
   "metadata": {
    "id": "aG0W3fNrY_jZ"
   },
   "outputs": [],
   "source": [
    "# important times\n",
    "min_alpha_c = -125.0                                            # defines the initial value of the time variable alpha (α) during the contraction phase\n",
    "max_alpha_c = 120                                                # defines the final value for α\n",
    "min_alpha_scale = 1.0e-12                                       # defines the minimum scale e.g. the minimum step of α\n",
    "np_plot = 100                                                  # plotting variable of the Numpy library\n",
    "\n",
    "# Time arrays for the contraction phase\n",
    "alpha_c = np.linspace(min_alpha_c, max_alpha_c, np_plot)        # defines the α interval for the contraction phase"
   ]
  },
  {
   "cell_type": "markdown",
   "id": "Wv6MGd5FDvyF",
   "metadata": {
    "id": "Wv6MGd5FDvyF"
   },
   "source": [
    "We shall now define a $\\tt {\\text{NumCosmo}}$ cosmological model object using the $\\tt {\\text{HICosmoQGRW} }$ method. The cosmological model is then defined by the set of parameters\n",
    "\n",
    "\\begin{align}\n",
    "  \\Omega_{r} & : \\text{abundace of radiation} \\, , \\\\\n",
    "  \\Omega_{m} & : \\text{abundace of dark matter} \\, , \\\\\n",
    "  w & : \\text{equation of state parameter of dark matter} \\, , \\\\\n",
    "  a_{\\text{B}} & : \\text{scale factor at the bounce instant} \\, . \\\\\n",
    "\\end{align}\n",
    "\n",
    "Note that, while the $\\Omega_{r}, \\Omega_{m}, w$ parameters are also free parameters of the $\\Lambda$-CDM model, the only introduced free parameter is given by the scale factor at the bounce $a_{\\text{B}}$, which must be fixed by observations. This also shows that this model is simple with respect to Occam's razor, and that it has less free parameters than usual inflationary models."
   ]
  },
  {
   "cell_type": "code",
   "execution_count": 4,
   "id": "lbOl640AC6e7",
   "metadata": {
    "id": "lbOl640AC6e7"
   },
   "outputs": [],
   "source": [
    "# definition of the model\n",
    "\n",
    "twofluid = Nc.HICosmoQGRW()                                  # defines a cosmological model, which is represented by a NumCosmo object. Then, the relevant cosmological parameters are added to this object\n",
    "\n",
    "# these lines set the relevant cosmological parameters\n",
    "k = 1.0         # sets a fiducial value of k\n",
    "Ωr = 1.0e-5     # abundance of radiation\n",
    "w = 1.0e-7      # equation of state parameter of dark matter\n",
    "xb = 1 / 4.1975468457206526e-45#1e35       # inverse of scale factor at the bounce, xb = 1/ab\n",
    "\n",
    "# this lines set the attributes of the cosmological model\n",
    "twofluid.props.w = w                                         # dust/dark matter equation of state parameter\n",
    "twofluid.props.Omegar = Ωr                                   # radiation abundance today\n",
    "twofluid.props.Omegaw = 1.0 * ( 1.0 - Ωr )                   # dust/dark matter abundance today\n",
    "twofluid.props.xb = xb                                       # inverse scale factor xb=1/ab at the time of the bounce\n",
    "\n",
    "# evolution of the model\n",
    "twofluid_c = tf.model_evol(twofluid,alpha_c,k)               # evolves the equations of motion for during the contraction phase using the twofluid_key.py commands"
   ]
  },
  {
   "cell_type": "code",
   "execution_count": 5,
   "id": "bN8ehm56GhK8",
   "metadata": {
    "id": "bN8ehm56GhK8"
   },
   "outputs": [],
   "source": [
    "# scale factor a(α)\n",
    "def a(α, aB = 1.0e-30):\n",
    "  return aB * np.exp(np.abs(α))                                # defines the scale factor a(α) as a function of logarithmic time α\n",
    "\n",
    "# scale factor at the bounce\n",
    "aB = 1 / twofluid.xb()\n",
    "\n",
    "# scale factor interval for contraction phase\n",
    "a_c = a(alpha_c) / aB"
   ]
  },
  {
   "cell_type": "code",
   "execution_count": 6,
   "id": "b562140e-026c-4a60-9847-a63dd14a680f",
   "metadata": {},
   "outputs": [
    {
     "data": {
      "text/plain": [
       "array([4.61120772e+68, 3.88191046e+67, 3.26795706e+66, 2.75110502e+65,\n",
       "       2.31599702e+64, 1.94970464e+63, 1.64134415e+62, 1.38175320e+61,\n",
       "       1.16321852e+60, 9.79246741e+58, 8.24371487e+57, 6.93990923e+56,\n",
       "       5.84231027e+55, 4.91830486e+54, 4.14043788e+53, 3.48559642e+52,\n",
       "       2.93432307e+51, 2.47023776e+50, 2.07955104e+49, 1.75065436e+48,\n",
       "       1.47377518e+47, 1.24068653e+46, 1.04446260e+45, 8.79272967e+43,\n",
       "       7.40209320e+42, 6.23139636e+41, 5.24585406e+40, 4.41618270e+39,\n",
       "       3.71773012e+38, 3.12974307e+37, 2.63475062e+36, 2.21804495e+35,\n",
       "       1.86724442e+34, 1.57192564e+33, 1.32331375e+32, 1.11402171e+31,\n",
       "       9.37830776e+29, 7.89505769e+28, 6.64639481e+27, 5.59521737e+26,\n",
       "       4.71029157e+25, 3.96532345e+24, 3.33817766e+23, 2.81021970e+22,\n",
       "       2.36576227e+21, 1.99159913e+20, 1.67661272e+19, 1.41144378e+18,\n",
       "       1.18821331e+17, 1.00028842e+16, 8.42085263e+14, 8.00611828e+14,\n",
       "       9.51023338e+15, 1.12969276e+17, 1.34192894e+18, 1.59403808e+19,\n",
       "       1.89351114e+20, 2.24924641e+21, 2.67181392e+22, 3.17376949e+23,\n",
       "       3.77002781e+24, 4.47830559e+25, 5.31964803e+26, 6.31905406e+27,\n",
       "       7.50621921e+28, 8.91641791e+29, 1.05915516e+31, 1.25813939e+32,\n",
       "       1.49450693e+33, 1.77528100e+34, 2.10880430e+35, 2.50498685e+36,\n",
       "       2.97560049e+37, 3.53462866e+38, 4.19868184e+39, 4.98749117e+40,\n",
       "       5.92449465e+41, 7.03753365e+42, 8.35968006e+43, 9.93021906e+44,\n",
       "       1.17958163e+46, 1.40119047e+47, 1.66443311e+48, 1.97713133e+49,\n",
       "       2.34857639e+50, 2.78980510e+51, 3.31392775e+52, 3.93651770e+53,\n",
       "       4.67607405e+54, 5.55457139e+55, 6.59811264e+56, 7.83770472e+57,\n",
       "       9.31017984e+58, 1.10592899e+60, 1.31370065e+61, 1.56050652e+62,\n",
       "       1.85367998e+63, 2.20193215e+64, 2.61561069e+65, 3.10700732e+66])"
      ]
     },
     "execution_count": 6,
     "metadata": {},
     "output_type": "execute_result"
    }
   ],
   "source": [
    "a_c"
   ]
  },
  {
   "cell_type": "code",
   "execution_count": 7,
   "id": "TWSP33keCwd9",
   "metadata": {
    "colab": {
     "base_uri": "https://localhost:8080/"
    },
    "id": "TWSP33keCwd9",
    "outputId": "130a74a5-c4ae-48a8-f19b-8e62546800a6"
   },
   "outputs": [
    {
     "name": "stdout",
     "output_type": "stream",
     "text": [
      "αζ = -105.20\n",
      "αS = -75.51\n",
      "αc = -90.35\n",
      "-------------\n",
      "aζ = 4.88e+15\n",
      "aS = 6.19e+02\n",
      "ac = 1.74e+09\n",
      "-------------\n",
      "kζζ = 3.29e+02\n",
      "kζS = 2.37e+09\n",
      "kSζ = 2.85e-01\n",
      "kSS = 6.14e+12\n"
     ]
    },
    {
     "name": "stderr",
     "output_type": "stream",
     "text": [
      "/sps/lsst/users/ebarroso/pbh_calculation/two_fluid_key.py:279: RuntimeWarning: invalid value encountered in log\n",
      "  dif_c = np.abs( np.log( np.array( self.cross_Z(k_interval) ) / np.array( self.cross_S(k_interval) ) ) )\n"
     ]
    },
    {
     "ename": "TypeError",
     "evalue": "unsupported format string passed to NoneType.__format__",
     "output_type": "error",
     "traceback": [
      "\u001b[31m---------------------------------------------------------------------------\u001b[39m",
      "\u001b[31mTypeError\u001b[39m                                 Traceback (most recent call last)",
      "\u001b[36mFile \u001b[39m\u001b[32m<timed exec>:40\u001b[39m\n",
      "\u001b[31mTypeError\u001b[39m: unsupported format string passed to NoneType.__format__"
     ]
    }
   ],
   "source": [
    "%%time\n",
    "\n",
    "# special time instants\n",
    "tz = twofluid_c.tz            # defines the time instant αζ such that ϕ = ϕζ\n",
    "ts = twofluid_c.ts            # defines the time instant αS such that ϕ = ϕS\n",
    "tc = twofluid_c.tc            # defines the time instant αc such that ϕ = π/4\n",
    "\n",
    "# special scale factor values\n",
    "az = a(tz)                    # defines the scale factor aζ such that ϕ = ϕζ\n",
    "aS = a(ts)                    # defines the scale factor aζ such that ϕ = ϕS\n",
    "ac = a(tc)                    # defines the scale factor aζ such that ϕ = π/4\n",
    "\n",
    "# critical values of k\n",
    "k_range = np.geomspace(1e-10, 1e14, 10**2)      # sets an interval of k to calculate the special k values\n",
    "kzz = twofluid_c.kz1()                          # calculates kζζ\n",
    "kzS = twofluid_c.kz2()                          # calculates kζS\n",
    "kSz = twofluid_c.ks1(k_range)                   # calculates kSζ\n",
    "kSS = twofluid_c.ks2(k_range)                   # calculates kSS\n",
    "kc = twofluid_c.kcrit(np.geomspace(1e3,1e14,100))                         # calculates the critical value kc. Note that we have not calculated one kc for the adiabatic mode and other for the entropy one. This is due to the fact that, according to the background analysis present on 2fluid_background.ipynb, their crossing times coincide at the critical time instant\n",
    "\n",
    "# prints the results\n",
    "\n",
    "# prints the special alpha valueshttps://meet.google.com/uvn-yvhp-obm\n",
    "print('αζ = ' + format(tz, '.2f'))              # prints αζ\n",
    "print('αS = ' + format(ts, '.2f'))              # prints αS\n",
    "print('αc = ' + format(tc, '.2f'))              # prints αc\n",
    "\n",
    "print('-------------')  \n",
    "\n",
    "# prints the special scale factor values\n",
    "print('aζ = ' + format(az, '.2e'))              # prints αζ\n",
    "print('aS = ' + format(aS,  '.2e'))              # prints αS\n",
    "print('ac = ' + format(ac,  '.2e'))              # prints αc\n",
    "\n",
    "print('-------------')\n",
    "\n",
    "# prints the special k values\n",
    "print('kζζ = ' + f\"{kzz:.2e}\")                  # prints kζζ\n",
    "print('kζS = ' + f\"{kzS:.2e}\")                  # prints kζS\n",
    "print('kSζ = ' + f\"{kSz:.2e}\")                  # prints kSζ\n",
    "print('kSS = ' + f\"{kSS:.2e}\")                  # prints kSS\n",
    "print('kc = ' + f\"{kc:.2e}\")                    # prints kc"
   ]
  },
  {
   "cell_type": "code",
   "execution_count": 8,
   "id": "Y0QrLoaqU1V8",
   "metadata": {
    "colab": {
     "base_uri": "https://localhost:8080/"
    },
    "id": "Y0QrLoaqU1V8",
    "outputId": "acecdb33-54b9-455a-be6b-23c52c14a17a"
   },
   "outputs": [
    {
     "name": "stdout",
     "output_type": "stream",
     "text": [
      "CPU times: user 3.95 ms, sys: 973 μs, total: 4.93 ms\n",
      "Wall time: 4.61 ms\n"
     ]
    }
   ],
   "source": [
    "%%time\n",
    "# list of k values\n",
    "#k_list = [1e-8, 1e-4, 1e-2, 1, kSz, 1e2, kzz ,kc, 5 * kc]  # defines a different list of k's\n",
    "#k_paper = [kzz / 1000, kmean, kc * 1000]                    # sets a list of values to be used in the 2fluid paper\n",
    "k_list = [1,10,100]                                            # sets the k_list to be equal the k_paper list\n",
    "#k_list = [1,kc]                                            # defines a testing list. Uncomment this line to make the code go faster\n",
    "k_list = [1]\n",
    "\n",
    "# precision parameters\n",
    "p1 = 1.0e-4\n",
    "p2 = 0.0\n",
    "model_list = [tf.model_evol(twofluid, alpha_c, k) for k in k_list]  # generates a list of evolved models for each k"
   ]
  },
  {
   "cell_type": "markdown",
   "id": "3e5445fc-310a-4838-aeb2-22a041af2bd9",
   "metadata": {},
   "source": [
    "## Definition of Constants and Functions"
   ]
  },
  {
   "cell_type": "markdown",
   "id": "a4e42095-295d-48bd-9f24-3f32727d3867",
   "metadata": {},
   "source": [
    "### Constants to convert units"
   ]
  },
  {
   "cell_type": "code",
   "execution_count": 9,
   "id": "hTMB6QPG5msJ",
   "metadata": {
    "id": "hTMB6QPG5msJ"
   },
   "outputs": [
    {
     "name": "stdout",
     "output_type": "stream",
     "text": [
      "4450.600623515439 1.3734553524168646e+26 1.1769031134327148e-61\n"
     ]
    }
   ],
   "source": [
    "import scipy.constants as ct\n",
    "import scipy as sc\n",
    "\n",
    "#conv_to_solar_mass = 2.7754 * 10**11 * (0.674)**2 * RH*3\n",
    "s = twofluid.RH_Mpc()                             # converts from Hubble radius to Mpc⁻¹ using the implemented Rh_Mpc NumCosmo method\n",
    "RH_meter = s * 3.086e22\n",
    "Pl = ct.physical_constants['Planck length'][0]\n",
    "p = ct.parsec\n",
    "ly = ct.light_year\n",
    "#f = ( Pl / (p*s * (10*6)) )*2\n",
    "f1 = ( Pl / (p*s * (10**6)) )\n",
    "f2 = ( Pl * (p*s * (10**6)) )\n",
    "print(s, RH_meter, f1)"
   ]
  },
  {
   "cell_type": "markdown",
   "id": "3fb96c71-7a1b-4ba9-8a1b-70a8851afd29",
   "metadata": {},
   "source": [
    "#### Power Spectrum Functions"
   ]
  },
  {
   "cell_type": "code",
   "execution_count": 10,
   "id": "d1_WqENU6vxw",
   "metadata": {
    "id": "d1_WqENU6vxw"
   },
   "outputs": [],
   "source": [
    "def spec_params(Omegars, w, xb,  E0, k_interval, tf = -1):\n",
    "    cosmo = Nc.HICosmoQGRW()\n",
    "    cosmo.props.w = w\n",
    "    cosmo.props.Omegar = E0 * Omegars\n",
    "    cosmo.props.Omegaw = E0 * (1.0 - Omegars)\n",
    "    cosmo.props.xb = xb\n",
    "\n",
    "    pert = Nc.HIPertTwoFluids.new()\n",
    "    pert.props.reltol = 1.0e-9\n",
    "\n",
    "    k0 = k_interval[0]\n",
    "    kf = k_interval[-1]\n",
    "    L = len(k_interval)\n",
    "\n",
    "    spec1 = pert.compute_zeta_spectrum(cosmo, 1, -cosmo.abs_alpha(1.0e-14), tf, k0, kf, L)\n",
    "    spec2 = pert.compute_zeta_spectrum(cosmo, 2, -cosmo.abs_alpha(1.0e-14), tf, k0, kf, L)\n",
    "    return spec1, spec2\n",
    "\n",
    "def spec(cosmo, k_interval, E0 = 1, tf = -1):\n",
    "  w = cosmo.props.w\n",
    "  Omegars = cosmo.props.Omegar\n",
    "  Omegarm  = E0 - cosmo.props.Omegaw\n",
    "  xb = cosmo.props.xb\n",
    "  spec1, spec2 = spec_params(Omegars, w, xb,  E0, k_interval, tf)\n",
    "  print(np.array(spec1.peek_yv().dup_array()))\n",
    "  Pk_a1 = np.exp( np.array(spec1.peek_yv().dup_array()) )\n",
    "  Pk_a2 = np.exp( np.array(spec2.peek_yv().dup_array()) )\n",
    "\n",
    "  return ((f1**2)/ (2 * (np.pi**2)) ) * ( Pk_a1 + Pk_a2 )"
   ]
  },
  {
   "cell_type": "markdown",
   "id": "81c9084c-4de7-479a-8561-2229659d8c86",
   "metadata": {},
   "source": [
    "### Old functions, not using for the moment"
   ]
  },
  {
   "cell_type": "code",
   "execution_count": 11,
   "id": "fqbioxyY8OxX",
   "metadata": {
    "id": "fqbioxyY8OxX"
   },
   "outputs": [],
   "source": [
    "def compute_kj(a_eta, Omega_m, Omega_r, w):\n",
    "    sqrt_arg = (36 * a_eta**2 * Omega_m**2 + 12 * (-1 + 48*w) * a_eta * Omega_m * Omega_r + (1 + 48*w)**2 * Omega_r**2)\n",
    "    return np.sqrt((6 * a_eta * Omega_m + (-1 + 48*w) * Omega_r + np.sqrt(sqrt_arg)) / (8 * w * a_eta**2))\n",
    "\n",
    "def compute_jeans_a(k, a_eta_list, Omega_m, Omega_r, w):\n",
    "  dif_list = np.abs(k - compute_kj(a_eta_list,Omega_m, Omega_r,w) )\n",
    "  index  = None\n",
    "  for j in range(len(dif_list)):\n",
    "    if dif_list[j] == np.min( dif_list ):\n",
    "      index = j\n",
    "  return a_eta_list[index]\n",
    "\n"
   ]
  },
  {
   "cell_type": "markdown",
   "id": "47156da3-a078-45e1-8e35-a1807ecb66d8",
   "metadata": {},
   "source": [
    "### Used Functions"
   ]
  },
  {
   "cell_type": "code",
   "execution_count": 12,
   "id": "vJlCrMtnztdH",
   "metadata": {
    "colab": {
     "base_uri": "https://localhost:8080/"
    },
    "id": "vJlCrMtnztdH",
    "outputId": "04ca4e3f-b4e1-4d3c-9590-5251dc6ee2d6"
   },
   "outputs": [],
   "source": [
    "from scipy.special import j1\n",
    "from scipy.integrate import quad\n",
    "from scipy.special import erfc\n",
    "\n",
    "def alpha_calc(a, aB = 1e-30):\n",
    "  return np.log(aB/a)\n",
    "\n",
    "\n",
    "def mass_rj(a, Omegaw, Omegars, w, ac=1.30418e23):\n",
    "    x = ac/a\n",
    "    t1 = 8 * np.pi**3 * np.sqrt(2) * w**(3/2)\n",
    "    t2 = Omegaw * x**3 + Omegars* x**4\n",
    "    t3 = 6 * Omegaw * x**3 - (1-48*w)*Omegars * x**4\n",
    "    t4 = t3**2 + 192*w*Omegars**2 * x**8\n",
    "    denom = (t3 + np.sqrt(t4))**(3/2)\n",
    "    result = 1.0e23 * t1 * t2 / denom\n",
    "    return result\n",
    "    \n",
    "def compute_RJ_kj(a_over_ac, Omega_wc, Omega_rc, w, Hc):\n",
    "    term1 = 6 * Omega_wc * (1.0/a_over_ac)**3\n",
    "    term2 = (1 - 48 * w) * Omega_rc * (1.0/a_over_ac)**4\n",
    "    term3 = 192 * w * (Omega_rc**2) * (1.0/a_over_ac)**8\n",
    "    discriminant = (term1 - term2)**2 + term3\n",
    "    sqrt_discriminant = np.sqrt(discriminant)\n",
    "    \n",
    "    denominator = term1 - term2 + sqrt_discriminant\n",
    "    sqrt_w_denominator = np.sqrt(2 * w / denominator)\n",
    "    a = a_over_ac * 1.30418e23\n",
    "    RJ = (4*np.pi / (a * Hc)) * sqrt_w_denominator\n",
    "    #### There is a c factor in the equation in overleaf for physical units, but this will be even higher\n",
    "    kj = 2 * np.pi / (a * RJ)\n",
    "    return RJ, kj\n",
    "    \n",
    "def compute_beta_k_xuan(k_interval, zeta_c, omegar, w, w_n, aform):\n",
    "  beta_list = []\n",
    "  arg_list = []\n",
    "  #A_0_list = []\n",
    "  PZ_list = []\n",
    "  beta_list2 = []\n",
    "  k_interval = np.atleast_1d(k_interval)\n",
    "  zeta_c = np.atleast_1d(zeta_c)\n",
    "  aform = np.atleast_1d(aform)\n",
    "  twofluid.props.w = w\n",
    "\n",
    "\n",
    "  Pz_list = []\n",
    "  for l,k in enumerate(k_interval):\n",
    "    kJ = k   # your known value\n",
    "\n",
    "    # Step 1: Generate 5 log-spaced points (excluding kJ)\n",
    "\n",
    "    \n",
    "    meter_to_Mpc = 3.24078e-23\n",
    "    # precision parameters\n",
    "    p1 = 1.0e-4\n",
    "    p2 = 0.0\n",
    "\n",
    "    # value of w ATTENTION\n",
    "    twofluid.props.w = 1e-5\n",
    "    alphaJ = alpha_calc(a_solutions[l])\n",
    "    k_RH = k * (meter_to_Mpc) * s\n",
    "     \n",
    "    t_prim = -80\n",
    "    zeta1 = tf.mode_1(k_RH,twofluid, p1, p2, t_prim )\n",
    "    zeta2 = tf.mode_2(k_RH,twofluid, p1, p2, t_prim )\n",
    "    idx1 = np.argmin(np.abs(zeta1.t - alphaJ))\n",
    "    idx2 = np.argmin(np.abs(zeta2.t - alphaJ))\n",
    "   \n",
    "    PzkJ = (k_RH**3) * (zeta2.zeta_r()[idx2]**2 + zeta2.zeta_im()[idx2]**2 + zeta1.zeta_r()[idx1]**2 + zeta1.zeta_im()[idx1]**2 ) / (2 * np.pi**2)\n",
    "    Pz_list.append(PzkJ)\n",
    "            \n",
    "    def gauss_pzK(z):\n",
    "      return (2/(np.sqrt( 2 * np.pi * PzkJ))) * np.exp(  -z**2 / (2*PzkJ) )\n",
    "\n",
    "    beta_list.append( sc.integrate.quad(gauss_pzK, zeta_c[l], np.inf, epsabs=1e-5, epsrel=1e-5)[0] )\n",
    "    arg_list.append(zeta_c[l] / np.sqrt(2 * PzkJ ))\n",
    "    beta_i = erfc(zeta_c[l] / np.sqrt(2 * PzkJ ))\n",
    "    beta_list2.append(beta_i)\n",
    "    #A_0_list.append(A_0_T)\n",
    "    PZ_list.append(PzkJ)\n",
    "  return beta_list, PZ_list, arg_list, beta_list2\n"
   ]
  },
  {
   "cell_type": "markdown",
   "id": "YnlyihDEth6P",
   "metadata": {
    "id": "YnlyihDEth6P"
   },
   "source": [
    "### Computing from Xuan table"
   ]
  },
  {
   "cell_type": "markdown",
   "id": "b6e4d13e-ebba-48f2-a254-38d788ec138b",
   "metadata": {},
   "source": [
    "#### Values from overleaf\n",
    "\n",
    "We will use this values from now on for all calculations"
   ]
  },
  {
   "cell_type": "code",
   "execution_count": 13,
   "id": "c8c30081-375b-4b01-96ea-9ada99e80404",
   "metadata": {},
   "outputs": [],
   "source": [
    "#w_table = 1.75e-24\n",
    "w_table = 1e-7\n",
    "omega_r_table = 1.26e-7\n",
    "omega_m_table = 1.0 - omega_r_table\n",
    "ac_table = 1.30418e23\n",
    "k_interval_table = np.array([1.260e-4, 1.237e-20, 1.244e-31]) * RH_meter\n",
    "zetac_table = [2.879e-24, 2.879e-24, 2.878e-24]\n",
    "x_table = [2.970e-2, 1.379e9, 2.970e16]\n",
    "aform_table = np.array(x_table) * ac_table"
   ]
  },
  {
   "cell_type": "code",
   "execution_count": 14,
   "id": "02cc7a6b-b55f-4e3c-ba03-0a4fe1bfe2fd",
   "metadata": {},
   "outputs": [],
   "source": [
    "twofluid = Nc.HICosmoQGRW() \n",
    "xb = 1e45 \n",
    "twofluid.props.w = w_table                                         # dust/dark matter equation of state parameter\n",
    "twofluid.props.Omegar = omega_r_table                                   # radiation abundance today\n",
    "twofluid.props.Omegaw = omega_m_table                  # dust/dark matter abundance today\n",
    "twofluid.props.xb = xb                                       # inverse scale factor xb=1/ab at the time of the bounce"
   ]
  },
  {
   "cell_type": "markdown",
   "id": "7baf072b-46fe-4933-99fc-83bd4efaac12",
   "metadata": {},
   "source": [
    "#### Find a for mass\n",
    "Here we are using the values of mass from the table in overleaf to find which a will leave to this formation mass. This will be the jeans time and later we will see which momentum is associated to it."
   ]
  },
  {
   "cell_type": "code",
   "execution_count": 15,
   "id": "c845ac3a-9b07-452e-b9e1-c909c8d100e6",
   "metadata": {
    "scrolled": true
   },
   "outputs": [
    {
     "name": "stdout",
     "output_type": "stream",
     "text": [
      "Mass = 1.00e-14, a = 1.27235e+03\n",
      "Mass = 1.00e-14, a / ac = 9.75593e-21\n",
      "The alpha is -76.22617296542967\n",
      "Mass = 1.00e+02, a = 1.27239e+11\n",
      "Mass = 1.00e+02, a / ac = 9.75623e-13\n",
      "The alpha is -94.64688468220756\n",
      "Mass = 1.00e+05, a = 4.02747e+12\n",
      "Mass = 1.00e+05, a / ac = 3.08813e-11\n",
      "The alpha is -98.10171252734398\n"
     ]
    }
   ],
   "source": [
    "# Known mass values\n",
    "from scipy.optimize import root_scalar\n",
    "#mass_values = [1e-14, 1e2, 1e13]  # example masses\n",
    "mass_values = [1e-14, 1e2, 1e5]\n",
    "\n",
    "a_grid = np.logspace(1, 50, 10000)\n",
    "mass_grid = mass_rj(a_grid, omega_m_table, omega_r_table, w_table)\n",
    "\n",
    "a_solutions = []\n",
    "\n",
    "for M in mass_values:\n",
    "    found = False\n",
    "    for i in range(len(a_grid) - 1):\n",
    "        f_mass1 = mass_grid[i] - M\n",
    "        f_mass2 = mass_grid[i+1] - M\n",
    "        if f_mass1 * f_mass2 < 0:  # sign change detected\n",
    "            a_low = a_grid[i]\n",
    "            a_high = a_grid[i+1]\n",
    "            sol = root_scalar(\n",
    "                lambda a: mass_rj(a, omega_m_table, omega_r_table, w_table) - M,\n",
    "                bracket=[a_low, a_high],\n",
    "                method='brentq'\n",
    "            )\n",
    "            if sol.converged:\n",
    "                a_solutions.append(sol.root)\n",
    "            else:\n",
    "                a_solutions.append(None)\n",
    "            found = True\n",
    "            break\n",
    "    if not found:\n",
    "        a_solutions.append(None)\n",
    "\n",
    "# Print results\n",
    "for M, a_val in zip(mass_values, a_solutions):\n",
    "    print(f\"Mass = {M:.2e}, a = {a_val:.5e}\" if a_val else f\"Mass = {M:.2e}, no solution found\")\n",
    "    print(f\"Mass = {M:.2e}, a / ac = {a_val/(ac_table):.5e}\" if a_val else f\"Mass = {M:.2e}, no solution found\")\n",
    "    print(f\"The alpha is {alpha_calc(a_val)}\")"
   ]
  },
  {
   "cell_type": "markdown",
   "id": "f9331cf1-a662-4d66-8b25-91f39694f3bf",
   "metadata": {},
   "source": [
    "#### Find k for this a"
   ]
  },
  {
   "cell_type": "code",
   "execution_count": 16,
   "id": "09d40472-9a63-4673-8965-efc6645729b6",
   "metadata": {},
   "outputs": [
    {
     "name": "stdout",
     "output_type": "stream",
     "text": [
      "a = 1272.3491250361637, K in (meters)-1 2.919757720729216e+19\n",
      "Radius in meters 1.6913237888101057e-22 \n",
      "\n",
      "a = 127238853389.3919, K in (meters)-1 2919.644681309052\n",
      "Radius in meters 1.6913368852315255e-14 \n",
      "\n",
      "a = 4027470943807.042, K in (meters)-1 2.9161786827666702\n",
      "Radius in meters 5.34974795654129e-13 \n",
      "\n"
     ]
    }
   ],
   "source": [
    "k_values = []\n",
    "hc = 2.26e-18\n",
    "for i,a_val in enumerate(a_solutions):\n",
    "    x = a_val / ac_table\n",
    "    #kJ2 = compute_kj(a_val, Omega_r=omega_r_table, Omega_m=1-omega_r_table, w=w_table)\n",
    "    RJ, kJ = compute_RJ_kj(x, 1-omega_r_table, omega_r_table, w_table, hc)\n",
    "    k_values.append(kJ)\n",
    "    print(f'a = {a_val}, K in (meters)-1 {kJ}')\n",
    "    print(f'Radius in meters {RJ} \\n')"
   ]
  },
  {
   "cell_type": "code",
   "execution_count": 17,
   "id": "3301eae7",
   "metadata": {},
   "outputs": [
    {
     "name": "stdout",
     "output_type": "stream",
     "text": [
      "[4.01015687e+45 4.01000161e+29 4.00524122e+26]\n"
     ]
    }
   ],
   "source": [
    "#The values of k in meters^-1 is natural units, then convert to Hubble units\n",
    "k_values_hubble = np.array(k_values) * RH_meter\n",
    "print(k_values_hubble)"
   ]
  },
  {
   "cell_type": "markdown",
   "id": "d67dbf3f-6416-4db8-b69c-fbb0e24e2a5d",
   "metadata": {},
   "source": [
    "### Spectra values for these k"
   ]
  },
  {
   "cell_type": "code",
   "execution_count": 18,
   "id": "9808732a-031d-4799-80ef-0222fa28798c",
   "metadata": {},
   "outputs": [
    {
     "name": "stdout",
     "output_type": "stream",
     "text": [
      "\n",
      "[1272.3491250361637, 127238853389.3919, 4027470943807.042]\n",
      "The values in Hubble units for k = [4.01015687e+45 4.01000161e+29 4.00524122e+26] \n",
      "Are too high and we cannot compute the spectra\n"
     ]
    }
   ],
   "source": [
    "print()\n",
    "print(a_solutions)\n",
    "print(f'The values in Hubble units for k = {k_values_hubble} \\nAre too high and we cannot compute the spectra')"
   ]
  },
  {
   "cell_type": "code",
   "execution_count": null,
   "id": "53c8c1ac-22a2-42b4-8e89-53c1ac763595",
   "metadata": {},
   "outputs": [
    {
     "name": "stdout",
     "output_type": "stream",
     "text": [
      "Testing for other values of K that does work\n",
      "kJ = 1e-07\n",
      "-145.06286085862487\n",
      "-120\n",
      "Times for the mode 2 = [-165.09296065 -165.07645123 -165.05994348 ...  -70.06383459  -70.01984749\n",
      "  -70.        ]\n",
      "kJ = 0.001\n",
      "-126.64218011467251\n",
      "-120\n",
      "Times for the mode 2 = [-146.67228543 -146.65761798 -146.64295216 ...  -70.05420254  -70.01263456\n",
      "  -70.        ]\n",
      "kJ = 10.0\n",
      "-108.22149937072015\n",
      "-120\n"
     ]
    }
   ],
   "source": [
    "print(\"Testing for other values of K that does work\")\n",
    "\n",
    "Pz_list = []\n",
    "\n",
    "# precision parameters\n",
    "p1 = 1.0e-4\n",
    "p2 = 0.0\n",
    "\n",
    "#t_prim_list = [-250, -250, -300]\n",
    "color_list = ['red','blue', 'green']\n",
    "color_list_light = ['salmon','lightblue', 'lightgreen']\n",
    "k_values_test = [1e-7, 1e-3, 1.0e1]\n",
    "for j in range(len(k_values_test)):\n",
    "    k_RH = k_values_test[j]\n",
    "    print('kJ = '+ str(k_RH))\n",
    "#   t_prim = t_prim_list[j]\n",
    "    t_prim = -70\n",
    "    zeta1 = tf.mode_1(k_RH,twofluid, p1, p2, t_prim )\n",
    "    zeta2 = tf.mode_2(k_RH,twofluid, p1, p2, t_prim)\n",
    "    print(f\"Times for the mode 2 = {zeta2.t}\")\n",
    "\n",
    "    idx1 = np.argmin(np.abs(zeta1.t - alphaJ))\n",
    "    #closest1 = zeta1[idx1]\n",
    "\n",
    "    idx2 = np.argmin(np.abs(zeta2.t - alphaJ))\n",
    "    #closest2 = zeta2[idx2]\n",
    "\n",
    "    #print(closest1,closest2)\n",
    "    \n",
    "    PzkJ = (f1**2 * k_RH**3) * (zeta2.zeta_r()[idx2]**2 + zeta2.zeta_im()[idx2]**2 + zeta1.zeta_r()[idx1]**2 + zeta1.zeta_im()[idx1]**2 ) / (2 * np.pi**2)\n",
    "    #PzkJ = spec(twofluid, k_fiducial_interval, tf = alphaJ)[0]\n",
    "    Pz2 = (f1**2 * k_RH**3) * (zeta2.zeta_r()**2 + zeta2.zeta_im()**2 ) / (2 * np.pi**2)\n",
    "    Pz1 = (f1**2 * k_RH**3) * (zeta1.zeta_r()**2 + zeta1.zeta_im()**2 ) / (2 * np.pi**2)\n",
    "    \n",
    "    Pz_list.append(PzkJ)\n",
    "    plt.plot(zeta2.t,  Pz2, label=f'mode 2 P_(zeta) for k = {k_RH}', color=f'{color_list[j]}')\n",
    "    plt.plot(zeta1.t,  Pz1, label=f'mode 1 P_(zeta) for k = {k_RH}', color=f'{color_list_light[j]}')\n",
    "#    plt.axvline(alphaJ, linestyle='--', color=f'{color_list[j]}')\n",
    "plt.yscale('log')\n",
    "plt.legend()\n",
    "plt.show()\n",
    "print(f\"The values of the power spectra at the Jeans Crossing time {Pz_list} \\nThe values of k are {k_values_test}\")"
   ]
  },
  {
   "cell_type": "markdown",
   "id": "91050b6d-0536-4a28-9104-bfea593b56c3",
   "metadata": {},
   "source": [
    "### Compute Beta with Table values\n",
    "As said, we cannot use the high momentum values, so for now this cell is not run"
   ]
  },
  {
   "cell_type": "code",
   "execution_count": 20,
   "id": "ux62m35YtpGW",
   "metadata": {
    "colab": {
     "base_uri": "https://localhost:8080/"
    },
    "id": "ux62m35YtpGW",
    "outputId": "57c99e1d-3710-412c-fe59-2bb10c359332"
   },
   "outputs": [],
   "source": [
    "\n",
    "\n",
    "\n",
    "# betas_table1, pz, arg_list, beta_list2 = compute_beta_k_xuan(k_values_hubble, zetac_table, Omegars, 1.0e-5, 1.0e-10, aform_table)\n"
   ]
  },
  {
   "cell_type": "code",
   "execution_count": 21,
   "id": "e825f546",
   "metadata": {},
   "outputs": [],
   "source": [
    "#print(f\"Betas Integral: {betas_table1} \\n, Pz: {pz}\\n, arg_list: {arg_list}\\n, Beta erfc: {beta_list2}\")"
   ]
  },
  {
   "cell_type": "markdown",
   "id": "bc1fb29c-22f3-48ec-aaf3-5695ddfb2d57",
   "metadata": {},
   "source": [
    "## Computing Spectra and Beta for momentum values that do work"
   ]
  },
  {
   "cell_type": "code",
   "execution_count": 22,
   "id": "97d08d5b-d567-4469-83b3-cebdc4657242",
   "metadata": {},
   "outputs": [
    {
     "name": "stdout",
     "output_type": "stream",
     "text": [
      "Values of a = [1.00000000e+33 2.15443469e+33 4.64158883e+33 1.00000000e+34\n",
      " 2.15443469e+34 4.64158883e+34 1.00000000e+35 2.15443469e+35\n",
      " 4.64158883e+35 1.00000000e+36]\n",
      "\n",
      "alpha =[np.float64(-145.06286085862487), np.float64(-145.83038922295623), np.float64(-146.59791758728758), np.float64(-147.36544595161894), np.float64(-148.13297431595026), np.float64(-148.90050268028162), np.float64(-149.66803104461297), np.float64(-150.43555940894433), np.float64(-151.20308777327566), np.float64(-151.970616137607)] \n",
      "\n",
      "Jeans in meters-1 k_j = [np.float64(1.3036480073124238e-29), np.float64(4.1224969702470666e-30), np.float64(1.3036480073124342e-30), np.float64(4.122496970247101e-31), np.float64(1.3036480073124123e-31), np.float64(4.122496970247135e-32), np.float64(1.3036480073124233e-32), np.float64(4.122496970247066e-33), np.float64(1.3036480073124344e-33), np.float64(4.122496970247102e-34)]\n",
      "\n",
      " K_j in Hubble units = [np.float64(0.0017905023333108282), np.float64(0.0005662065529108141), np.float64(0.00017905023333108426), np.float64(5.6620655291081885e-05), np.float64(1.7905023333108126e-05), np.float64(5.662065529108235e-06), np.float64(1.7905023333108276e-06), np.float64(5.662065529108141e-07), np.float64(1.7905023333108427e-07), np.float64(5.66206552910819e-08)] \n"
     ]
    }
   ],
   "source": [
    "\n",
    "x_list =  np.geomspace(1.0e33, 1.0e36, 10) / ac_table ## Values of time that will give working values of K_j\n",
    "k_values_hubble = []\n",
    "kj_values_meters = []\n",
    "alpha_values = []\n",
    "a_jeans_list = x_list * ac_table\n",
    "for j, x in enumerate(x_list):\n",
    "    RJ, kJ = compute_RJ_kj(x, 1-omega_r_table, omega_r_table, w_table, hc)\n",
    "    kj_values_meters.append(kJ)\n",
    "    k_values_hubble.append(kJ * RH_meter)\n",
    "    alpha_values.append(alpha_calc(a_jeans_list[j]))\n",
    "\n",
    "print(f\"Values of a = {a_jeans_list}\\n\\nalpha ={alpha_values} \\n\\nJeans in meters-1 k_j = {kj_values_meters}\\n\\n K_j in Hubble units = {k_values_hubble} \")"
   ]
  },
  {
   "cell_type": "code",
   "execution_count": 24,
   "id": "49447ce5-6405-45f1-ac21-56119a1c0341",
   "metadata": {},
   "outputs": [
    {
     "name": "stderr",
     "output_type": "stream",
     "text": [
      "/tmp/ipykernel_12259/1692739068.py:9: MatplotlibDeprecationWarning: The get_cmap function was deprecated in Matplotlib 3.7 and will be removed in 3.11. Use ``matplotlib.colormaps[name]`` or ``matplotlib.colormaps.get_cmap()`` or ``pyplot.get_cmap()`` instead.\n",
      "  cmap = cm.get_cmap('tab20', len(k_values_hubble))\n"
     ]
    },
    {
     "name": "stdout",
     "output_type": "stream",
     "text": [
      "kJ = 0.0017905023333108282 alpha = -145.06286085862487\n",
      "-125.47718768743833\n",
      "-120\n",
      "Times for mode 2 [-145.50729335 -145.49274242 -145.47819281 ...  -70.07501249  -70.02861788\n",
      "  -70.        ] \n",
      "\n",
      "kJ = 0.0005662065529108141 alpha = -145.83038922295623\n",
      "-127.7797727804324\n",
      "-120\n",
      "Times for mode 2 [-147.80987775 -147.79509654 -147.78031677 ...  -70.08533749  -70.0440751\n",
      "  -70.00281271] \n",
      "\n",
      "kJ = 0.00017905023333108426 alpha = -146.59791758728758\n",
      "-130.08235787342642\n",
      "-120\n",
      "Times for mode 2 [-150.11246215 -150.09745055 -150.0824408  ...  -70.09722786  -70.04098767\n",
      "  -70.        ] \n",
      "\n",
      "kJ = 5.6620655291081885e-05 alpha = -147.36544595161894\n",
      "-132.38494296642045\n",
      "-120\n",
      "Times for mode 2 [-152.41504656 -152.39980466 -152.38456467 ...  -70.08884144  -70.04782696\n",
      "  -70.00681248] \n",
      "\n",
      "kJ = 1.7905023333108126e-05 alpha = -148.13297431595026\n",
      "-134.68752805941452\n",
      "-120\n",
      "Times for mode 2 [-154.71763096 -154.70215876 -154.68668826 ...  -70.09026434  -70.04767333\n",
      "  -70.00508232] \n",
      "\n",
      "kJ = 5.662065529108235e-06 alpha = -148.90050268028162\n",
      "-136.99011315240855\n",
      "-120\n",
      "Times for mode 2 [-157.02021536 -157.00451281 -156.98881201 ...  -70.08769913  -70.02740199\n",
      "  -70.        ] \n",
      "\n",
      "kJ = 1.7905023333108276e-06 alpha = -149.66803104461297\n",
      "-139.2926982454026\n",
      "-120\n",
      "Times for mode 2 [-159.32279976 -159.30686736 -159.29093635 ...  -70.08290997  -70.03703827\n",
      "  -70.        ] \n",
      "\n",
      "kJ = 5.662065529108141e-07 alpha = -150.43555940894433\n",
      "-141.59528333839665\n",
      "-120\n",
      "Times for mode 2 [-161.62538417 -161.60922161 -161.59306049 ...  -70.09201059  -70.04789784\n",
      "  -70.00378508] \n",
      "\n",
      "kJ = 1.7905023333108427e-07 alpha = -151.20308777327566\n",
      "-143.8978684313907\n",
      "-120\n",
      "Times for mode 2 [-163.92796857 -163.91157559 -163.89518424 ...  -70.12166432  -70.06302214\n",
      "  -70.00437995] \n",
      "\n",
      "kJ = 5.66206552910819e-08 alpha = -151.970616137607\n",
      "-146.20045352438473\n",
      "-120\n",
      "Times for mode 2 [-166.23055297 -166.21392975 -166.19730802 ...  -70.05073183  -70.00972321\n",
      "  -70.        ] \n",
      "\n"
     ]
    },
    {
     "data": {
      "image/png": "[encoded data removed]",
      "text/plain": [
       "<Figure size 640x480 with 1 Axes>"
      ]
     },
     "metadata": {},
     "output_type": "display_data"
    },
    {
     "name": "stdout",
     "output_type": "stream",
     "text": [
      " Spectrum values [np.float64(2.3528744649909788e-150), np.float64(7.440442710335729e-153), np.float64(2.352875174564503e-155), np.float64(7.440446959487718e-158), np.float64(2.352876711703305e-160), np.float64(7.440452011304366e-163), np.float64(2.3528783282378086e-165), np.float64(7.440457142216057e-168), np.float64(2.3528799526844272e-170), np.float64(7.440462281093179e-173)]\n"
     ]
    }
   ],
   "source": [
    "from matplotlib import cm, colors as mcolors\n",
    "Pz_list = []\n",
    "# precision parameters\n",
    "p1 = 1.0e-4\n",
    "p2 = 0.0\n",
    "# prec_list = [1e-8, 1e-8, 1e-8]\n",
    "# cross_size_list = [1e-30, 1e-30, 1e-30]\n",
    "# alpha_try_list = [-160, -160, -160]\n",
    "cmap = cm.get_cmap('tab20', len(k_values_hubble))\n",
    "ax = plt.subplot(111)\n",
    "for j in range(len(k_values_hubble)):\n",
    "    alphaJ = alpha_calc(a_jeans_list[j])\n",
    "    k_RH = k_values_hubble[j]\n",
    "    print('kJ = '+ str(k_RH) , 'alpha = ' + str(alphaJ) )\n",
    "    t_prim = -70\n",
    "    zeta1 = tf.mode_1(k_RH,twofluid, p1, p2, t_prim )\n",
    "    zeta2 = tf.mode_2(k_RH, twofluid, p1, p2, t_prim)\n",
    "    print(f\"Times for mode 2 {zeta2.t} \\n\")\n",
    "\n",
    "    idx1 = np.argmin(np.abs(zeta1.t - alphaJ))\n",
    "    idx2 = np.argmin(np.abs(zeta2.t - alphaJ))\n",
    "    \n",
    "    PzkJ = f1**2 * (k_RH**3) * (zeta2.zeta_r()[idx2]**2 + zeta2.zeta_im()[idx2]**2 + zeta1.zeta_r()[idx1]**2 + zeta1.zeta_im()[idx1]**2 ) / (2 * np.pi**2)\n",
    "    Pz2 = f1**2 * (k_RH**3) * (zeta2.zeta_r()**2 + zeta2.zeta_im()**2 ) / (2 * np.pi**2)\n",
    "    Pz1 = f1**2 * (k_RH**3) * (zeta1.zeta_r()**2 + zeta1.zeta_im()**2 ) / (2 * np.pi**2)\n",
    "    \n",
    "    Pz_list.append(PzkJ)\n",
    "\n",
    "\n",
    "    base_color = cmap(j)[:3]  # RGB triple\n",
    "    # make a lighter version for mode 1\n",
    "    lighter_color = tuple(1 - 0.5 * (1 - c) for c in base_color)\n",
    "    \n",
    "    line, = plt.plot(zeta2.t, Pz2, color=base_color)\n",
    "    plt.plot(zeta1.t, Pz1, color=lighter_color)\n",
    "    plt.axvline(alphaJ, linestyle='--', color=base_color)\n",
    "    y_offset = 0.05 * Pz2[-1]  # 5% of last value\n",
    "    \n",
    "    plt.text(zeta2.t[-1], Pz2[-1] + j * y_offset, f'k={k_RH:.2e}', color=base_color)\n",
    "plt.yscale('log')\n",
    "plt.title('Spectra for Mode 2 (higher values) and Mode 1 (smaller values)')\n",
    "#plt.legend(loc='center left', bbox_to_anchor=(1.04, 0.5))\n",
    "plt.tight_layout()\n",
    "plt.show()\n",
    "print(f\" Spectrum values {Pz_list}\")"
   ]
  },
  {
   "cell_type": "markdown",
   "id": "c6d20cc2-9ff8-4011-aef8-2091b9a94082",
   "metadata": {},
   "source": [
    "#### Masses Calculation"
   ]
  },
  {
   "cell_type": "code",
   "execution_count": 25,
   "id": "f74ef87b-308c-42e5-b540-a6d7809d072a",
   "metadata": {},
   "outputs": [
    {
     "name": "stdout",
     "output_type": "stream",
     "text": [
      "The masses related to our k values are m = [np.float64(1.7917460568194638e+28), np.float64(5.665998528175019e+28), np.float64(1.7917460568194487e+29), np.float64(5.665998528174974e+29), np.float64(1.791746056819478e+30), np.float64(5.665998528174928e+30), np.float64(1.7917460568194639e+31), np.float64(5.66599852817502e+31), np.float64(1.7917460568194495e+32), np.float64(5.665998528174974e+32)]\n"
     ]
    }
   ],
   "source": [
    "masses = [mass_rj(a, omega_m_table, omega_r_table, w_table) for a in a_jeans_list ]\n",
    "\n",
    "print(f\"The masses related to our k values are m = {masses}\")"
   ]
  },
  {
   "cell_type": "markdown",
   "id": "9d9c389d-7f44-4d55-a6a7-17dfbc864d44",
   "metadata": {},
   "source": [
    "#### Beta Calculation"
   ]
  },
  {
   "cell_type": "code",
   "execution_count": 29,
   "id": "766a4e3a-516e-401c-bbc0-b4517aed5993",
   "metadata": {},
   "outputs": [
    {
     "name": "stdout",
     "output_type": "stream",
     "text": [
      "2.879e-24\n",
      "For the critical threshold 2.879e-24, the betas are = [np.float64(0.0), np.float64(0.0), np.float64(0.0), np.float64(0.0), np.float64(0.0), np.float64(0.0), np.float64(0.0), np.float64(0.0), np.float64(0.0), np.float64(0.0)]\n"
     ]
    }
   ],
   "source": [
    "zetac_matrix = zetac_table * 4\n",
    "print( zetac_table[0] )\n",
    "beta_list = [ erfc(zetac_matrix[j] / np.sqrt(2 * Pz_list[j] )) for j in range(len(Pz_list))] \n",
    "print(f\"For the critical threshold {zetac_table[0]}, the betas are = {beta_list}\")"
   ]
  },
  {
   "cell_type": "code",
   "execution_count": 31,
   "id": "e6fcf0f3-5fd3-41ef-82cb-b5e773f2886a",
   "metadata": {
    "scrolled": true
   },
   "outputs": [
    {
     "data": {
      "text/plain": [
       "Text(0, 0.5, 'Beta')"
      ]
     },
     "execution_count": 31,
     "metadata": {},
     "output_type": "execute_result"
    },
    {
     "data": {
      "image/png": "[encoded data removed]",
      "text/plain": [
       "<Figure size 640x480 with 1 Axes>"
      ]
     },
     "metadata": {},
     "output_type": "display_data"
    }
   ],
   "source": [
    "plt.scatter(masses, beta_list)\n",
    "plt.xlabel('Solar Mass')\n",
    "plt.ylabel('Beta')"
   ]
  },
  {
   "cell_type": "markdown",
   "id": "ecaf6485-511d-40aa-9c2b-2db5359fc156",
   "metadata": {},
   "source": [
    "#### Extrapolating Results\n",
    "\n",
    "The power spectra seems to be scale invariant. So if we compute the jeans crossing time for other values of momentum, we still can use the same power spectra as before at this time to compute the beta function."
   ]
  },
  {
   "cell_type": "code",
   "execution_count": 51,
   "id": "9a49aa12-9ad0-46bc-8536-9ac14ccd4e13",
   "metadata": {},
   "outputs": [
    {
     "name": "stdout",
     "output_type": "stream",
     "text": [
      "Mass = 1.00e-19, a = 4.02352e+00\n",
      "Mass = 1.00e-19, a / ac = 3.08510e-23\n",
      "The alpha is -70.46971023294309\n",
      "Mass = 1.00e-18, a = 1.27235e+01\n",
      "Mass = 1.00e-18, a / ac = 9.75593e-23\n",
      "The alpha is -71.62100277944046\n",
      "Mass = 1.00e-14, a = 1.27235e+03\n",
      "Mass = 1.00e-14, a / ac = 9.75593e-21\n",
      "The alpha is -76.22617296543122\n",
      "Mass = 1.00e+02, a = 1.27239e+11\n",
      "Mass = 1.00e+02, a / ac = 9.75623e-13\n",
      "The alpha is -94.64688468220854\n",
      "Mass = 1.00e+13, a = 6.77874e+22\n",
      "Mass = 1.00e+13, a / ac = 5.19770e-01\n",
      "The alpha is -121.64821599657435\n"
     ]
    }
   ],
   "source": [
    "# Known mass values\n",
    "from scipy.optimize import root_scalar\n",
    "#mass_values = [1e-14, 1e2, 1e13]  # example masses\n",
    "mass_values = [1e-19, 1e-18, 1e-14, 1e2, 1e13]\n",
    "\n",
    "a_grid = np.logspace(0, 50, 10000)\n",
    "mass_grid = mass_rj(a_grid, omega_m_table, omega_r_table, w_table)\n",
    "\n",
    "a_solutions = []\n",
    "\n",
    "for M in mass_values:\n",
    "    found = False\n",
    "    for i in range(len(a_grid) - 1):\n",
    "        f_mass1 = mass_grid[i] - M\n",
    "        f_mass2 = mass_grid[i+1] - M\n",
    "        if f_mass1 * f_mass2 < 0:  # sign change detected\n",
    "            a_low = a_grid[i]\n",
    "            a_high = a_grid[i+1]\n",
    "            sol = root_scalar(\n",
    "                lambda a: mass_rj(a, omega_m_table, omega_r_table, w_table) - M,\n",
    "                bracket=[a_low, a_high],\n",
    "                method='brentq'\n",
    "            )\n",
    "            if sol.converged:\n",
    "                a_solutions.append(sol.root)\n",
    "            else:\n",
    "                a_solutions.append(None)\n",
    "            found = True\n",
    "            break\n",
    "    if not found:\n",
    "        a_solutions.append(None)\n",
    "\n",
    "# Print results\n",
    "for M, a_val in zip(mass_values, a_solutions):\n",
    "    print(f\"Mass = {M:.2e}, a = {a_val:.5e}\" if a_val else f\"Mass = {M:.2e}, no solution found\")\n",
    "    print(f\"Mass = {M:.2e}, a / ac = {a_val/(ac_table):.5e}\" if a_val else f\"Mass = {M:.2e}, no solution found\")\n",
    "    print(f\"The alpha is {alpha_calc(a_val)}\")"
   ]
  },
  {
   "cell_type": "code",
   "execution_count": 52,
   "id": "bef15ecc-6a99-4170-b7a5-6c189089be97",
   "metadata": {},
   "outputs": [
    {
     "name": "stdout",
     "output_type": "stream",
     "text": [
      "The power spectra is 1.9464868156860302e-72, and the Jean crossin time -70.46971023294309, argument of erfc is 1459153340872.6938\n",
      "For the critical threshold 2.879e-24, the beta is = 0.0\n",
      "The power spectra is 1.958396915028912e-73, and the Jean crossin time -71.62100277944046, argument of erfc is 4600195712589.78\n",
      "For the critical threshold 2.879e-24, the beta is = 0.0\n",
      "The power spectra is 1.848330066229359e-77, and the Jean crossin time -76.22617296543122, argument of erfc is 473518447417436.5\n",
      "For the critical threshold 2.879e-24, the beta is = 0.0\n",
      "The power spectra is 9.286265849674877e-103, and the Jean crossin time -94.64688468220854, argument of erfc is 2.1125456906198465e+27\n",
      "For the critical threshold 2.879e-24, the beta is = 0.0\n",
      "The power spectra is 8.63285310636608e-145, and the Jean crossin time -121.64821599657435, argument of erfc is 2.191035889665432e+48\n",
      "For the critical threshold 2.879e-24, the beta is = 0.0\n"
     ]
    }
   ],
   "source": [
    "for a_mass in a_solutions:\n",
    "    alphaJ = alpha_calc(a_mass)\n",
    "    idx1 = np.argmin(np.abs(zeta1.t - alphaJ))\n",
    "    idx2 = np.argmin(np.abs(zeta2.t - alphaJ))\n",
    "    \n",
    "    PzkJ = f1**2 * (k_RH**3) * (zeta2.zeta_r()[idx2]**2 + zeta2.zeta_im()[idx2]**2 + zeta1.zeta_r()[idx1]**2 + zeta1.zeta_im()[idx1]**2 ) / (2 * np.pi**2)\n",
    "    print(f\"The power spectra is {PzkJ}, and the Jean crossin time {alphaJ}, argument of erfc is {zetac_matrix[0] / np.sqrt(2 * PzkJ) }\")\n",
    "    beta_list = erfc(zetac_matrix[0] / np.sqrt(2 * PzkJ ))\n",
    "    print(f\"For the critical threshold {zetac_table[0]}, the beta is = {beta_list}\")"
   ]
  },
  {
   "cell_type": "markdown",
   "id": "Bc0SDYxpITTr",
   "metadata": {
    "id": "Bc0SDYxpITTr",
    "jp-MarkdownHeadingCollapsed": true
   },
   "source": [
    "# $\\infty.$ Chaos"
   ]
  },
  {
   "cell_type": "code",
   "execution_count": null,
   "id": "9ldMV_WRIWmX",
   "metadata": {
    "id": "9ldMV_WRIWmX"
   },
   "outputs": [],
   "source": []
  },
  {
   "cell_type": "code",
   "execution_count": null,
   "id": "wwxXRMWzwrpK",
   "metadata": {
    "id": "wwxXRMWzwrpK"
   },
   "outputs": [],
   "source": [
    "%%time\n",
    "from numba import njit\n",
    "max_alpha_c = -1\n",
    "k_interval = np.geomspace(1e-8 , kzz, 20)\n",
    "mode1 = []\n",
    "mode2 = []\n",
    "# precision parameters\n",
    "p1 = 1.0e-4\n",
    "p2 = 0.0\n",
    "\n",
    "for k in k_interval:\n",
    "  mode1.append(tf.mode_1(k,twofluid, p1, p2, max_alpha_c ))\n",
    "  mode2.append(tf.mode_2(k,twofluid, p1, p2, max_alpha_c ))"
   ]
  },
  {
   "cell_type": "code",
   "execution_count": null,
   "id": "_kSSiVJhT-yT",
   "metadata": {
    "id": "_kSSiVJhT-yT"
   },
   "outputs": [],
   "source": [
    "@njit\n",
    "def compute_indices(mode1_t, mode2_t, alphaC):\n",
    "    jB_list1 = []\n",
    "    jC_list1 = []\n",
    "    jB_list2 = []\n",
    "    jC_list2 = []\n",
    "\n",
    "    for k in range(len(mode1_t)):\n",
    "        # xB1\n",
    "        jB1 = np.argmin(np.abs(mode1_t[k]))\n",
    "        jB_list1.append(jB1)\n",
    "\n",
    "        # xB2\n",
    "        jB2 = np.argmin(np.abs(mode2_t[k]))\n",
    "        jB_list2.append(jB2)\n",
    "\n",
    "        # xC1\n",
    "        jC1 = np.argmin(np.abs(mode1_t[k] - alphaC))\n",
    "        jC_list1.append(jC1)\n",
    "\n",
    "        # xC2\n",
    "        jC2 = np.argmin(np.abs(mode2_t[k] - alphaC))\n",
    "        jC_list2.append(jC2)\n",
    "\n",
    "    return jB_list1, jC_list1, jB_list2, jC_list2"
   ]
  },
  {
   "cell_type": "code",
   "execution_count": null,
   "id": "X5yLRBNGUEM-",
   "metadata": {
    "id": "X5yLRBNGUEM-"
   },
   "outputs": [],
   "source": [
    "# Prepare lists of arrays for Numba (mode1_t and mode2_t)\n",
    "mode1_t = [mode.t for mode in mode1]\n",
    "mode2_t = [mode.t for mode in mode2]"
   ]
  },
  {
   "cell_type": "code",
   "execution_count": null,
   "id": "0l_xATTgdzss",
   "metadata": {
    "id": "0l_xATTgdzss"
   },
   "outputs": [],
   "source": [
    "@njit\n",
    "def compute_P(k_interval, delta_rho1R, delta_rho2R, delta_rho1I, delta_rho2I,\n",
    "              mode1_ps_r, mode1_ps_im, mode2_ps_r, mode2_ps_im,\n",
    "              jB_list1, jB_list2, jC_list1, jC_list2, f1):\n",
    "\n",
    "    Pdelta = []\n",
    "    PdeltaB = []\n",
    "    PdeltaC = []\n",
    "    PS = []\n",
    "    PSB = []\n",
    "    PSC = []\n",
    "\n",
    "    twopi2_inv = 1.0 / (2 * (np.pi**2))\n",
    "\n",
    "    for k in range(len(k_interval)):\n",
    "        k3 = k_interval[k] ** 3\n",
    "        f1_sq_k3 = (f1**2) * k3\n",
    "\n",
    "        # Last indices for delta and ps\n",
    "        d1R = delta_rho1R[k][-1]\n",
    "        d2R = delta_rho2R[k][-1]\n",
    "        d1I = delta_rho1I[k][-1]\n",
    "        d2I = delta_rho2I[k][-1]\n",
    "\n",
    "        ps1R = mode1_ps_r[k][-1]\n",
    "        ps1I = mode1_ps_im[k][-1]\n",
    "        ps2R = mode2_ps_r[k][-1]\n",
    "        ps2I = mode2_ps_im[k][-1]\n",
    "\n",
    "        # Pdelta and PS\n",
    "        Pdelta_val = f1_sq_k3 * (d1R**2 + d2R**2 + d1I**2 + d2I**2) * twopi2_inv\n",
    "        PS_val = f1_sq_k3 * (ps1R**2 + ps1I**2 + ps2R**2 + ps2I**2) * twopi2_inv\n",
    "\n",
    "        Pdelta.append(Pdelta_val)\n",
    "        PS.append(PS_val)\n",
    "\n",
    "        # Indices https://meet.google.com/uvn-yvhp-obmfor B and C points\n",
    "        jB1 = jB_list1[k]\n",
    "        jB2 = jB_list2[k]\n",
    "        jC1 = jC_list1[k]\n",
    "        jC2 = jC_list2[k]\n",
    "\n",
    "        # PdeltaB and PSB\n",
    "        d1R_B = delta_rho1R[k][jB1]\n",
    "        d2R_B = delta_rho2R[k][jB2]\n",
    "        d1I_B = delta_rho1I[k][jB1]\n",
    "        d2I_B = delta_rho2I[k][jB2]\n",
    "\n",
    "        ps1R_B = mode1_ps_r[k][jB1]\n",
    "        ps1I_B = mode1_ps_im[k][jB1]\n",
    "        ps2R_B = mode2_ps_r[k][jB2]\n",
    "        ps2I_B = mode2_ps_im[k][jB2]\n",
    "\n",
    "        PdeltaB_val = f1_sq_k3 * (d1R_B**2 + d2R_B**2 + d1I_B**2 + d2I_B**2) * twopi2_inv\n",
    "        PSB_val = f1_sq_k3 * (ps1R_B**2 + ps1I_B**2 + ps2R_B**2 + ps2I_B**2) * twopi2_inv\n",
    "\n",
    "        PdeltaB.append(PdeltaB_val)\n",
    "        PSB.append(PSB_val)\n",
    "\n",
    "        # PdeltaC and PSC\n",
    "        d1R_C = delta_rho1R[k][jC1]\n",
    "        d2R_C = delta_rho2R[k][jC2]\n",
    "        d1I_C = delta_rho1I[k][jC1]\n",
    "        d2I_C = delta_rho2I[k][jC2]\n",
    "\n",
    "        ps1R_C = mode1_ps_r[k][jC1]\n",
    "        ps1I_C = mode1_ps_im[k][jC1]\n",
    "        ps2R_C = mode2_ps_r[k][jC2]\n",
    "        ps2I_C = mode2_ps_im[k][jC2]\n",
    "\n",
    "        PdeltaC_val = f1_sq_k3 * (d1R_C**2 + d2R_C**2 + d1I_C**2 + d2I_C**2) * twopi2_inv\n",
    "        PSC_val = f1_sq_k3 * (ps1R_C**2 + ps1I_C**2 + ps2R_C**2 + ps2I_C**2) * twopi2_inv\n",
    "\n",
    "        PdeltaC.append(PdeltaC_val)\n",
    "        PSC.append(PSC_val)\n",
    "\n",
    "    return Pdelta, PdeltaB, PdeltaC, PS, PSB, PSC\n",
    "\n",
    "\n",
    "# Prepare arrays for Numba\n",
    "mode1_ps_r = [mode.ps_r() for mode in mode1]\n",
    "mode1_ps_im = [mode.ps_im() for mode in mode1]\n",
    "mode2_ps_r = [mode.ps_r() for mode in mode2]\n",
    "mode2_ps_im = [mode.ps_im() for mode in mode2]"
   ]
  },
  {
   "cell_type": "code",
   "execution_count": null,
   "id": "Ru-IE313JyMr",
   "metadata": {
    "id": "Ru-IE313JyMr"
   },
   "outputs": [],
   "source": []
  },
  {
   "cell_type": "code",
   "execution_count": null,
   "id": "_l4QOcGIJhs9",
   "metadata": {
    "id": "_l4QOcGIJhs9"
   },
   "outputs": [],
   "source": [
    "import scipy.constants as ct\n",
    "\n",
    "s = twofluid.RH_Mpc()                             # converts from Hubble radius to Mpc⁻¹ using the implemented Rh_Mpc NumCosmo method\n",
    "from scipy import constants as ct\n",
    "Pl = ct.physical_constants['Planck length'][0]\n",
    "p = ct.parsec\n",
    "ly = ct.light_year\n",
    "f1 = ( Pl / (p*s * (10**6)) ) * np.sqrt( 8 * np.pi / 3 )\n",
    "p = ct.parsec\n",
    "f1 = ( Pl / (p*s * (10**6)) ) * np.sqrt( 8 * np.pi / 3 )\n",
    "σ = 3 / (8 * np.pi * ct.G * ( (p*s*(1e6))**2 ) )\n",
    "\n",
    "\n",
    "Ωr = 1.41e-7\n",
    "Ωm = 1 - Ωr\n",
    "xB_value = 1/aB\n",
    "w = 0"
   ]
  },
  {
   "cell_type": "code",
   "execution_count": null,
   "id": "4_rWnYDUJ0_q",
   "metadata": {
    "id": "4_rWnYDUJ0_q"
   },
   "outputs": [],
   "source": [
    "def E(alpha_int, aB = aB):\n",
    "  E_list = []\n",
    "  for alpha in alpha_int:\n",
    "    x = 1/a(alpha,aB)\n",
    "    xB = 1/aB\n",
    "    dust = Ωr * ( (x**4) - ( (x**6/xB**(2)) ) )\n",
    "    rad = Ωm * ( (x**(3*(1+w))) - ( (x**6/xB**(3*(1-w))) ) )\n",
    "\n",
    "    # bounce\n",
    "    if alpha == 0:\n",
    "      return 0\n",
    "    # contraction\n",
    "    if alpha < 0:\n",
    "      #value = -complex(np.emath.sqrt(dust + rad))\n",
    "      value = -(np.sqrt(dust + rad))\n",
    "    # expansion\n",
    "    else:\n",
    "      #value = complex(np.emath.sqrt(dust + rad))\n",
    "      value = (np.sqrt(dust + rad))\n",
    "    E_list.append(value)\n",
    "\n",
    "  return np.array(E_list)\n",
    "\n",
    "def omegaT(x):\n",
    "  return (4/3) * Ωr * (x**4) + (1+w) * Ωm * (x**(3*(1+w)))"
   ]
  },
  {
   "cell_type": "code",
   "execution_count": null,
   "id": "DlVt-NB1JdRg",
   "metadata": {
    "id": "DlVt-NB1JdRg"
   },
   "outputs": [],
   "source": [
    "delta_rho1R = ([  3 * mode1[j].zeta_r() - E(mode1[j].t,aB = aB) * (a(mode1[j].t, aB = aB)**(-3)) * ( mode1[j].pz_r()*σ ) / (omegaT(1/a(mode1[j].t, aB = aB)) * (1+w))  for j in range( len (k_interval ) ) ])\n",
    "delta_rho2R = ([  3 * mode2[j].zeta_r() - E(mode2[j].t, aB = aB) * (a(mode2[j].t, aB = aB)**(-3)) * ( mode2[j].pz_r()*σ ) / (omegaT(1/a(mode2[j].t, aB = aB))  * (1+w))  for j in range( len (k_interval ) ) ])\n",
    "\n",
    "delta_rho1I = ([  3 * mode1[j].zeta_im() - E(mode1[j].t,aB = aB) * (a(mode1[j].t, aB = aB)**(-3)) * ( mode1[j].pz_im()*σ ) / (omegaT(1/a(mode1[j].t, aB = aB))  * (1+w))  for j in range( len (k_interval ) ) ])\n",
    "delta_rho2I = ([  3 * mode2[j].zeta_im() - E(mode2[j].t,aB = aB) * (a(mode2[j].t, aB = aB)**(-3)) * ( mode2[j].pz_im()*σ ) / (omegaT(1/a(mode2[j].t, aB = aB))  * (1+w))  for j in range( len (k_interval ) ) ])"
   ]
  },
  {
   "cell_type": "code",
   "execution_count": null,
   "id": "Ph1VnXbRdmix",
   "metadata": {
    "id": "Ph1VnXbRdmix"
   },
   "outputs": [],
   "source": [
    "alphaJ = -50\n",
    "jB_list1, jC_list1, jB_list2, jC_list2 = compute_indices(mode1_t, mode2_t, alphaJ)\n",
    "\n",
    "Pdelta, PdeltaB, PdeltaC, PS, PSB, PSC = compute_P(\n",
    "    k_interval,\n",
    "    delta_rho1R, delta_rho2R,\n",
    "    delta_rho1I, delta_rho2I,\n",
    "    mode1_ps_r, mode1_ps_im,\n",
    "    mode2_ps_r, mode2_ps_im,\n",
    "    jB_list1, jB_list2,\n",
    "    jC_list1, jC_list2,\n",
    "    f1\n",
    ")\n"
   ]
  },
  {
   "cell_type": "code",
   "execution_count": null,
   "id": "RVNzXemsJZil",
   "metadata": {
    "id": "RVNzXemsJZil"
   },
   "outputs": [],
   "source": [
    "k_list = [0, len(k_interval)//2 , -1]\n",
    "\n",
    "for k in k_list:\n",
    "  plt.plot( mode1[k].t, f1**2 * ( (delta_rho1R[k])**2 + (delta_rho1I[k])**2 ), label=r'$\\delta_{\\rho1}, k = $ '  +f\"{k_interval[k]:.1e}\", linestyle='--' )\n",
    "  plt.plot( mode2[k].t, f1**2 * ( (delta_rho2R[k])**2 + (delta_rho2I[k])**2 ), label=r'$\\delta_{\\rho2}, k = $ '  +f\"{k_interval[k]:.1e}\" )\n",
    "\n",
    "#plt.xscale('log')\n",
    "plt.axvline(x = 0, color='black', linestyle=':')\n",
    "plt.axvline(x = alphaJ, color='grey', linestyle=':')\n",
    "plt.axhline(y = 1, color='blue', linestyle=':')\n",
    "plt.yscale('log')\n",
    "plt.legend(bbox_to_anchor=(1,1), fontsize=12)\n",
    "plt.plot()"
   ]
  },
  {
   "cell_type": "code",
   "execution_count": null,
   "id": "C10uQVUQKSkA",
   "metadata": {
    "id": "C10uQVUQKSkA"
   },
   "outputs": [],
   "source": [
    "plt.plot(k_interval / s, PdeltaB, label=r'${\\cal P}_{\\delta^{\\psi}_{\\rho}}(k)$', color='blue')\n",
    "plt.xscale('log')\n",
    "plt.yscale('log')\n",
    "plt.show()"
   ]
  },
  {
   "cell_type": "code",
   "execution_count": null,
   "id": "bOjFvTVWLBFz",
   "metadata": {
    "id": "bOjFvTVWLBFz"
   },
   "outputs": [],
   "source": [
    "def calculate_Pdelta(k_interval, alphaJ , model=twofluid, f1 = f1):\n",
    "    mode1 = []\n",
    "    mode2 = []\n",
    "    if type(k_interval) == 'numpy.float64':\n",
    "      k = k_interval\n",
    "      mode1.append(tf.mode_1(k,twofluid, p1, p2, max_alpha_c ))\n",
    "      mode2.append(tf.mode_2(k,twofluid, p1, p2, max_alpha_c ))\n",
    "    if len(k_interval) == 1:\n",
    "      k = k_interval[0]\n",
    "      mode1.append(tf.mode_1(k,twofluid, p1, p2, max_alpha_c ))\n",
    "      mode2.append(tf.mode_2(k,twofluid, p1, p2, max_alpha_c ))\n",
    "    else:\n",
    "      for k in k_interval:\n",
    "        mode1.append(tf.mode_1(k,twofluid, p1, p2, max_alpha_c ))\n",
    "        mode2.append(tf.mode_2(k,twofluid, p1, p2, max_alpha_c ))\n",
    "\n",
    "    delta_rho1R = [3 * mode1[j].zeta_r() - E(mode1[j].t, aB=aB) * (a(mode1[j].t, aB=aB)**(-3)) * (mode1[j].pz_r()*σ) / (omegaT(1/a(mode1[j].t, aB=aB)) * (1+w)) for j in range(len(k_interval))]\n",
    "    delta_rho2R = [3 * mode2[j].zeta_r() - E(mode2[j].t, aB=aB) * (a(mode2[j].t, aB=aB)**(-3)) * (mode2[j].pz_r()*σ) / (omegaT(1/a(mode2[j].t, aB=aB)) * (1+w)) for j in range(len(k_interval))]\n",
    "\n",
    "    delta_rho1I = [3 * mode1[j].zeta_im() - E(mode1[j].t, aB=aB) * (a(mode1[j].t, aB=aB)**(-3)) * (mode1[j].pz_im()*σ) / (omegaT(1/a(mode1[j].t, aB=aB)) * (1+w)) for j in range(len(k_interval))]\n",
    "    delta_rho2I = [3 * mode2[j].zeta_im() - E(mode2[j].t, aB=aB) * (a(mode2[j].t, aB=aB)**(-3)) * (mode2[j].pz_im()*σ) / (omegaT(1/a(mode2[j].t, aB=aB)) * (1+w)) for j in range(len(k_interval))]\n",
    "\n",
    "    # Prepare lists of arrays for Numba (mode1_t and mode2_t)\n",
    "    mode1_t = [mode.t for mode in mode1]\n",
    "    mode2_t = [mode.t for mode in mode2]\n",
    "\n",
    "    jB_list1, jC_list1, jB_list2, jC_list2 = compute_indices(mode1_t, mode2_t, alphaJ)\n",
    "\n",
    "    # Prepare arrays for Numba\n",
    "    mode1_ps_r = [mode.ps_r() for mode in mode1]\n",
    "    mode1_ps_im = [mode.ps_im() for mode in mode1]\n",
    "    mode2_ps_r = [mode.ps_r() for mode in mode2]\n",
    "    mode2_ps_im = [mode.ps_im() for mode in mode2]\n",
    "\n",
    "    Pdelta, PdeltaB, PdeltaC, PS, PSB, PSC = compute_P(\n",
    "        k_interval,\n",
    "        delta_rho1R, delta_rho2R,\n",
    "        delta_rho1I, delta_rho2I,\n",
    "        mode1_ps_r, mode1_ps_im,\n",
    "        mode2_ps_r, mode2_ps_im,\n",
    "        jB_list1, jB_list2,\n",
    "        jC_list1, jC_list2,\n",
    "        f1\n",
    "    )\n",
    "\n",
    "    # return Pdelta, PdeltaB, PdeltaC, PS, PSB, PSC  # Returning all calculated power spectra\n",
    "    return Pdelta"
   ]
  },
  {
   "cell_type": "code",
   "execution_count": null,
   "id": "xsC6wzOhOGJL",
   "metadata": {
    "id": "xsC6wzOhOGJL"
   },
   "outputs": [],
   "source": [
    "%%timeit\n",
    "k = [kc]\n",
    "calculate_Pdelta(k, alphaJ)"
   ]
  },
  {
   "cell_type": "code",
   "execution_count": null,
   "id": "M74-enizLg0Y",
   "metadata": {
    "id": "M74-enizLg0Y"
   },
   "outputs": [],
   "source": [
    "f1 = 1\n",
    "k_interval = np.geomspace(1e-8,100 * kc, 100)\n",
    "Pd = calculate_Pdelta(k_interval, alphaJ)"
   ]
  },
  {
   "cell_type": "code",
   "execution_count": null,
   "id": "H3-Lf6GOL6C9",
   "metadata": {
    "id": "H3-Lf6GOL6C9"
   },
   "outputs": [],
   "source": [
    "plt.plot(k_interval, Pd)\n",
    "plt.xscale('log')\n",
    "plt.yscale('log')\n",
    "plt.show()"
   ]
  },
  {
   "cell_type": "code",
   "execution_count": null,
   "id": "xjtp5kApO0gS",
   "metadata": {
    "id": "xjtp5kApO0gS"
   },
   "outputs": [],
   "source": [
    "# # C. Power Spectra commands\n",
    "\n",
    "# def spec_params(Omegars, w, xb,  E0, k_interval, max_alpha = -1):\n",
    "#     model = Nc.HICosmoQGRW()\n",
    "#     model.props.w = w\n",
    "#     model.props.Omegar = E0 * Omegars\n",
    "#     model.props.Omegaw = E0 * (1.0 - Omegars)\n",
    "#     model.props.xb = xb\n",
    "\n",
    "#     pert = Nc.HIPertTwoFluids.new()\n",
    "#     pert.props.reltol = 1.0e-9\n",
    "\n",
    "#     k0 = k_interval[0]\n",
    "#     kf = k_interval[-1]\n",
    "#     L = len(k_interval)\n",
    "\n",
    "#     #spec1 = pert.compute_zeta_spectrum(model, 1, -model.abs_alpha(1.0e-14), 0.0, k0, kf, L)\n",
    "#     #spec2 = pert.compute_zeta_spectrum(model, 2, -model.abs_alpha(1.0e-14), 0.0, k0, kf, L)\n",
    "\n",
    "#     spec1 = pert.compute_zeta_spectrum(model, 1, -model.abs_alpha(1.0e-14), max_alpha, k0, kf, L)\n",
    "#     spec2 = pert.compute_zeta_spectrum(model, 2, -model.abs_alpha(1.0e-14), max_alpha, k0, kf, L)\n",
    "\n",
    "#     return spec1, spec2\n",
    "\n",
    "\n",
    "# def spec_Pz_params(Omegars, w, xb,  E0, k_interval, max_alpha = -1):\n",
    "#     model = Nc.HICosmoQGRW()\n",
    "#     model.props.w = w\n",
    "#     model.props.Omegar = E0 * Omegars\n",
    "#     model.props.Omegaw = E0 * (1.0 - Omegars)\n",
    "#     model.props.xb = xb\n",
    "\n",
    "#     pert = Nc.HIPertTwoFluids.new()\n",
    "#     pert.props.reltol = 1.0e-9\n",
    "\n",
    "#     k0 = k_interval[0]\n",
    "#     kf = k_interval[-1]\n",
    "#     L = len(k_interval)\n",
    "\n",
    "#     spec1 = pert.compute_Pzeta_spectrum(model, 1, -model.abs_alpha(1.0e-14), max_alpha, k0, kf, L)\n",
    "#     spec2 = pert.compute_Pzeta_spectrum(model, 2, -model.abs_alpha(1.0e-14), max_alpha, k0, kf, L)\n",
    "\n",
    "#     return spec1, spec2\n",
    "\n",
    "\n",
    "# def spec(model, k_interval, max_alpha = -1, E0 = 1):\n",
    "#   w = model.props.w\n",
    "#   Omegars = model.props.Omegar\n",
    "#   Omegarm  = E0 - model.props.Omegaw\n",
    "#   xb = model.props.xb\n",
    "#   spec1, spec2 = spec_params(Omegars, w, xb,  E0, k_interval, max_alpha)\n",
    "\n",
    "#   Pk_a1 = np.exp( np.array(spec1.peek_yv().dup_array()) )\n",
    "#   Pk_a2 = np.exp( np.array(spec2.peek_yv().dup_array()) )\n",
    "\n",
    "#   return ( Pk_a1 + Pk_a2 ) / (2 * np.pi**2)\n",
    "\n",
    "\n",
    "# def spec_Pz(model, k_interval, max_alpha = -1, E0 = 1):\n",
    "#   w = model.props.w\n",
    "#   Omegars = model.props.Omegar\n",
    "#   Omegarm  = E0 - model.props.Omegaw\n",
    "#   xb = model.props.xb\n",
    "#   spec1, spec2 = spec_Pz_params(Omegars, w, xb,  E0, k_interval, max_alpha)\n",
    "\n",
    "#   Pk_a1 = np.exp( np.array(spec1.peek_yv().dup_array()) )\n",
    "#   Pk_a2 = np.exp( np.array(spec2.peek_yv().dup_array()) )\n",
    "\n",
    "#   return ( Pk_a1 + Pk_a2 ) / (2 * np.pi**2)\n"
   ]
  },
  {
   "cell_type": "code",
   "execution_count": null,
   "id": "SYC1mAU5GU5W",
   "metadata": {
    "id": "SYC1mAU5GU5W"
   },
   "outputs": [],
   "source": [
    "k_interval = np.geomspace(k_interval[0], k_interval[-1]/100, 6)"
   ]
  },
  {
   "cell_type": "code",
   "execution_count": null,
   "id": "-ishwyKkzOWj",
   "metadata": {
    "id": "-ishwyKkzOWj"
   },
   "outputs": [],
   "source": [
    "# %%time\n",
    "\n",
    "# # calculates the power spectra\n",
    "# alphaJ = 40\n",
    "# Pz = spec(twofluid, k_interval, alphaJ)        # calculates the adiabatic power spectrum Pζ(k)\n",
    "# P_pz = spec_Pz(twofluid, k_interval, alphaJ)   # calculates the adiabatic momentum power spectrum PΠζ(k)\n",
    "# Pdelta_rho2R = ([  3 * mode2[j].zeta_r() - E(alphaJ, aB = aB) * (a(alphaJ, aB = aB)**(-3)) * ( mode2[j].pz_r()*σ ) / (omegaT(1/a(alphaJ, aB = aB))  * (1+w))  for j in range( len (k_interval ) ) ])"
   ]
  },
  {
   "cell_type": "code",
   "execution_count": null,
   "id": "zVDoNf0NXfkZ",
   "metadata": {
    "id": "zVDoNf0NXfkZ"
   },
   "outputs": [],
   "source": [
    "delta_c = 1\n",
    "def beta_k(k_interval):\n",
    "  beta_list = []\n",
    "  for k in k_interval:\n",
    "    aJk = compute_jeans_a(k, a_interval, Omega_m = 1 - v, Omega_r = v, w=1e-3)\n",
    "    kJ = compute_kj(aJk, Omega_r = v, Omega_m = 1 - v, w=1e-3)\n",
    "    n = 100\n",
    "    kJ_int = np.array([10**(j/10) * kJ for j in range(n)])\n",
    "    Pdelta = np.array(calculate_Pdelta([kJ], alphaJ))\n",
    "\n",
    "    #print(type(Pdelta))\n",
    "    #print(PzJ, kJ, aJk)\n",
    "    def gauss_pdeltaK(delta):\n",
    "      return (2/(np.sqrt( 2 * np.pi * Pdelta ))) * np.exp(  -delta**2 / (2*Pdelta) )\n",
    "\n",
    "    beta_list.append( sc.integrate.quad(gauss_pdeltaK, delta_c, np.inf)[0] )\n",
    "\n",
    "  return beta_list"
   ]
  },
  {
   "cell_type": "code",
   "execution_count": null,
   "id": "WbX1j2j_Xfkc",
   "metadata": {
    "id": "WbX1j2j_Xfkc"
   },
   "outputs": [],
   "source": [
    "%%time\n",
    "k_interval = np.geomspace(1e-8, kc * 10, 100)\n",
    "beta_range = beta_k(k_interval)"
   ]
  },
  {
   "cell_type": "code",
   "execution_count": null,
   "id": "uRxn9b0QXfkd",
   "metadata": {
    "id": "uRxn9b0QXfkd"
   },
   "outputs": [],
   "source": [
    "plt.plot(k_interval, beta_range)\n",
    "plt.xscale('log')\n",
    "plt.yscale('log')\n",
    "plt.axvline(kzz, color='purple', linestyle='--')\n",
    "plt.axvline(k_trans, color='black', linestyle='--')\n",
    "plt.axvline(kc, color='yellow', linestyle='--')\n",
    "plt.show()"
   ]
  },
  {
   "cell_type": "code",
   "execution_count": null,
   "id": "NCE40v6CXfke",
   "metadata": {
    "id": "NCE40v6CXfke"
   },
   "outputs": [],
   "source": [
    "import numpy as np\n",
    "from scipy.optimize import brentq\n",
    "import scipy as sc\n",
    "Omegaw = twofluid.props.Omegaw\n",
    "Omegars = twofluid.props.Omegar\n",
    "\n",
    "def mass_rj(a, Omegaw, Omegars, w):\n",
    "    numerator = 16 * np.sqrt(2) * (np.pi ** 2) * (w ** (3/2)) * (Omegaw / a**3 + Omegars / a**4)\n",
    "    term1 = 6 * Omegaw / a**3 - (1 - 48 * w) * Omegars / a**4\n",
    "    term2 = np.sqrt(term1**2 + 192 * w * Omegars**2 / a**8)\n",
    "    denominator = (term1 + term2)**(3/2)\n",
    "    return 1e25 * numerator / denominator\n",
    "\n",
    "def find_a_for_mass(target_mass, Omegaw, Omegars, w):\n",
    "    a_vals = np.logspace(-16, 4, 10000)\n",
    "    mass_vals = [mass_rj(a, Omegaw, Omegars, w) for a in a_vals]\n",
    "\n",
    "    for i in range(len(a_vals) - 1):\n",
    "        m1, m2 = mass_vals[i], mass_vals[i + 1]\n",
    "        if (m1 - target_mass) * (m2 - target_mass) < 0:\n",
    "            return brentq(lambda a: mass_rj(a, Omegaw, Omegars, w) - target_mass,\n",
    "                          a_vals[i], a_vals[i + 1])\n",
    "    return None\n",
    "\n",
    "target_masses = [1e-2, 1e2, 1e14]\n",
    "k_values = []\n",
    "w_list = [1.0e-4, 1.0e-5, 1.0e-6]\n",
    "zeta_c_lists = [[1.642e-4, 1.673e-4,  1.675e-4], [1.6938e-5, 1.6414e-5, 1.6938e-5], [1.64767e-6, 1.66335e-6, 1.64778e-6] ]\n",
    "for l,wl in enumerate(w_list):\n",
    "    print(f'aqui{wl}')\n",
    "    for i,mass in enumerate(target_masses):\n",
    "        a_root = find_a_for_mass(mass, Omegaw, Omegars, wl)\n",
    "        if a_root:\n",
    "            k = 1 / a_root\n",
    "            k_values.append(k)\n",
    "            print(f\"Target Mass = {mass:.1e}, a = {a_root:.5e}, k ∝ {k:.5e}\")\n",
    "        else:\n",
    "            print(f\"Target Mass = {mass:.1e} not reachable in given a-range.\")\n",
    "        kJ = compute_kj(a_root, Omega_r = v, Omega_m = 1 - v, w=1e-3)\n",
    "        for j in range(len(k_range)):\n",
    "          if np.abs(k_range[j]-kJ) == np.min(np.abs(k_range-kJ)):\n",
    "            PzJ = Pz[j]\n",
    "        print(f'Spec {PzJ}')\n",
    "        print(f'zetac {zeta_c_lists[l][i]}')\n",
    "        beta = sc.integrate.quad(gauss_pz, zeta_c_lists[l][i], np.inf, args=(PzJ,))[0]\n",
    "        plt.scatter(mass, beta)\n",
    "        plt.yscale('log')\n",
    "        plt.xscale('log')\n",
    "        print(f'Beta {beta}')\n",
    "    plt.xlabel('mass in solar mass')\n",
    "    plt.show()"
   ]
  },
  {
   "cell_type": "code",
   "execution_count": null,
   "id": "_lzlWIX3Xfkf",
   "metadata": {
    "id": "_lzlWIX3Xfkf"
   },
   "outputs": [],
   "source": [
    "import numpy as np\n",
    "from scipy.optimize import brentq\n",
    "import scipy as sc\n",
    "import matplotlib.pyplot as plt  # Added missing import\n",
    "\n",
    "Omegaw = twofluid.props.Omegaw\n",
    "Omegars = twofluid.props.Omegar\n",
    "\n",
    "def mass_rj(a, Omegaw, Omegars, w):\n",
    "    numerator = 16 * np.sqrt(2) * (np.pi ** 2) * (w ** (3/2)) * (Omegaw / a**3 + Omegars / a**4)\n",
    "    term1 = 6 * Omegaw / a**3 - (1 - 48 * w) * Omegars / a**4\n",
    "    term2 = np.sqrt(term1**2 + 192 * w * Omegars**2 / a**8)\n",
    "    denominator = (term1 + term2)**(3/2)\n",
    "    return 1e25 * numerator / denominator\n",
    "\n",
    "def find_a_for_mass(target_mass, Omegaw, Omegars, w):\n",
    "    a_vals = np.logspace(-16, 4, int(1e4))\n",
    "    mass_vals = [mass_rj(a, Omegaw, Omegars, w) for a in a_vals]\n",
    "\n",
    "    for i in range(len(a_vals) - 1):\n",
    "        m1, m2 = mass_vals[i], mass_vals[i + 1]\n",
    "        if (m1 - target_mass) * (m2 - target_mass) < 0:\n",
    "            return brentq(lambda a: mass_rj(a, Omegaw, Omegars, w) - target_mass,\n",
    "                          a_vals[i], a_vals[i + 1])\n",
    "    return None\n",
    "\n",
    "target_masses = [1e-2, 1e2, 1e14]\n",
    "k_values = []\n",
    "w_list = [1.0e-4, 1.0e-5, 1.0e-40]\n",
    "zeta_c_lists = [[1.642e-4, 1.673e-4, 1.675e-4], [1.6938e-5, 1.6414e-5, 1.6938e-5], [1.64767e-6, 1.66335e-6, 1.64778e-6]]\n",
    "\n",
    "# Assuming these functions/variables are defined elsewhere as per your note\n",
    "# compute_kj, k_range, Pz, gauss_pz, v must be defined\n",
    "\n",
    "for l, wl in enumerate(w_list):\n",
    "    print(f'aqui {wl}')\n",
    "    for i, mass in enumerate(target_masses):\n",
    "        a_root = find_a_for_mass(mass, Omegaw, Omegars, wl)\n",
    "        if a_root:\n",
    "            k = 1 / a_root\n",
    "            k_values.append(k)\n",
    "            print(f\"Target Mass = {mass:.1e}, a = {a_root:.10e}, k ∝ {k:.5e}\")\n",
    "        else:\n",
    "            print(f\"Target Mass = {mass:.1e} not reachable in given a-range.\")\n",
    "\n",
    "        kJ = compute_kj(a_root, Omega_r=v, Omega_m=1-v, w=wl)  # Assuming v is defined\n",
    "        for j in range(len(k_range)):  # Assuming k_range is defined\n",
    "            if np.abs(k_range[j]-kJ) == np.min(np.abs(k_range-kJ)):\n",
    "                PzJ = Pz[j]  # Assuming Pz is defined\n",
    "        print(f'Spec {PzJ}')\n",
    "        print(f'zetac {zeta_c_lists[l][i]}')\n",
    "\n",
    "        beta = sc.integrate.quad(gauss_pz, zeta_c_lists[l][i], np.inf, args=(PzJ,))[0]  # Assuming gauss_pz is defined\n",
    "        plt.scatter(mass, beta)\n",
    "        plt.yscale('log')\n",
    "        plt.xscale('log')\n",
    "        print(f'Beta {beta}')\n",
    "        print('_______________________________________________')\n",
    "    plt.xlabel('mass in solar mass')\n",
    "    #plt.show()\n",
    "plt.show()"
   ]
  },
  {
   "cell_type": "code",
   "execution_count": null,
   "id": "CgSHMwCtXfkf",
   "metadata": {
    "id": "CgSHMwCtXfkf"
   },
   "outputs": [],
   "source": [
    "w_interval = np.logspace(-4,-6,100)\n",
    "plt.plot( w_interval, mass_rj(w = w_interval, a = 1, Omegaw = 1 - 1e-5, Omegars = 1e-5) )\n",
    "plt.xscale('log')\n",
    "plt.yscale('log')\n",
    "plt.show()\n"
   ]
  },
  {
   "cell_type": "code",
   "execution_count": null,
   "id": "YmKWxYjw7KbT",
   "metadata": {
    "id": "YmKWxYjw7KbT"
   },
   "outputs": [],
   "source": [
    "a_vals = np.logspace(-16, 4, 10000)\n",
    "for w in w_list:\n",
    "    masses = [mass_rj(a, Omegaw, Omegars, w) for a in a_vals]\n",
    "    plt.plot(a_vals, masses, label=f'w={w}')\n",
    "plt.axhline(target_masses[0], linestyle='--', color='k')\n",
    "plt.axhline(target_masses[1], linestyle='--', color='gray')\n",
    "plt.axhline(target_masses[2], linestyle='--', color='black')\n",
    "plt.xscale('log')\n",
    "plt.yscale('log')\n",
    "plt.xlabel(\"a (scale factor)\")\n",
    "plt.ylabel(\"mass_rj\")\n",
    "plt.legend()\n",
    "plt.show()\n"
   ]
  },
  {
   "cell_type": "markdown",
   "id": "Gu2j7JMwbD8W",
   "metadata": {
    "id": "Gu2j7JMwbD8W"
   },
   "source": [
    "## Coordinate Modes $\\{\\zeta_{k}, S_{k} \\}$"
   ]
  },
  {
   "cell_type": "markdown",
   "id": "IZYZ3tJxa79k",
   "metadata": {
    "id": "IZYZ3tJxa79k"
   },
   "source": [
    "In this section, we turn to plot and discuss the behavior of the coordinate modes $\\{\\zeta_{k\\ell}, S_{k\\ell} \\}$ for various values of $k$. Their behavior can be visualized in the next cell, for which we have plotted the time evolution of their real parts:"
   ]
  },
  {
   "cell_type": "code",
   "execution_count": null,
   "id": "2eLVxPnK1pvL",
   "metadata": {
    "colab": {
     "base_uri": "https://localhost:8080/"
    },
    "id": "2eLVxPnK1pvL",
    "outputId": "3b3d3301-77a7-4ff4-9f6e-b8e77ff75b3c"
   },
   "outputs": [],
   "source": [
    "twofluid.eom_eval(1,1).cs2"
   ]
  },
  {
   "cell_type": "code",
   "execution_count": null,
   "id": "gi97XE_B07Kl",
   "metadata": {
    "id": "gi97XE_B07Kl"
   },
   "outputs": [],
   "source": [
    "G = 1e-13\n",
    "\n",
    "def RJ(model,alpha_list):\n",
    "  return np.array([  np.sqrt(model.props.Omegaw * a(alpha)**(-3) +(model.props.Omegar) * a(alpha)**(-4)) * np.sqrt( model.eom_eval(alpha,1).cs2/ ( (4 * np.pi * G) * ( model.props.Omegaw * a(alpha)**(-3) + (8 / 3) * (model.props.Omegar) * a(alpha)**(-4) ) ) ) for alpha in alpha_list])"
   ]
  },
  {
   "cell_type": "code",
   "execution_count": null,
   "id": "ASyGkYSY27SF",
   "metadata": {
    "colab": {
     "base_uri": "https://localhost:8080/",
     "height": 446
    },
    "id": "ASyGkYSY27SF",
    "outputId": "d6de0cd7-b185-4a41-ee6d-a5fcc862cfd6"
   },
   "outputs": [],
   "source": [
    "k_list = np.geomspace(1e8,1e20,20)\n",
    "[plt.plot( alpha_c, model_list[0].nuz * k , label=r'$\\lambda^{-1}_{k}$') for k in k_list]\n",
    "plt.plot( alpha_c, np.abs(model_list[0].Rh_z), color='black', label=r'$R^{-1}_{H\\zeta}$' )\n",
    "plt.plot( alpha_c, 1/RJ(twofluid,alpha_c), color='red', label=r'$R^{-1}_{J}$' )\n",
    "#plt.xscale('log')\n",
    "plt.yscale('log')\n",
    "#plt.axvline(x = tc, linestyle='--', color='black' )\n",
    "plt.axvline(x = 0, linestyle='--', color='yellow', label=r'Bounce' )\n",
    "plt.xlabel(r'$\\alpha$')\n",
    "#plt.legend()\n",
    "plt.show()"
   ]
  },
  {
   "cell_type": "code",
   "execution_count": null,
   "id": "5JwL0mH5Ne9C",
   "metadata": {
    "colab": {
     "base_uri": "https://localhost:8080/",
     "height": 446
    },
    "id": "5JwL0mH5Ne9C",
    "outputId": "91f37f2e-ad17-498b-d4fc-6e915e75083c"
   },
   "outputs": [],
   "source": [
    "k_list = np.geomspace(1e-2,1e3,1)\n",
    "[plt.plot( alpha_c, 1/(model_list[0].nuz * k) , label=r'$\\lambda_{k}$') for k in k_list]\n",
    "plt.plot( alpha_c, 1/np.abs(model_list[0].Rh_z), color='black', label=r'$R_{H\\zeta}$' )\n",
    "plt.plot( alpha_c, RJ(twofluid,alpha_c), color='red', label=r'$R_{J}$' )\n",
    "#plt.xscale('log')\n",
    "plt.yscale('log')\n",
    "#plt.axvline(x = tc, linestyle='--', color='black' )\n",
    "plt.axvline(x = 0, linestyle='--', color='yellow', label=r'Bounce' )\n",
    "plt.xlabel(r'$\\alpha$')\n",
    "plt.legend()\n",
    "plt.show()"
   ]
  },
  {
   "cell_type": "code",
   "execution_count": null,
   "id": "X5aal2CE3SSj",
   "metadata": {
    "colab": {
     "base_uri": "https://localhost:8080/",
     "height": 1000
    },
    "id": "X5aal2CE3SSj",
    "outputId": "6b9ce69e-e4ee-4fc1-aafc-cf7381348b71"
   },
   "outputs": [],
   "source": [
    "%%time\n",
    "\n",
    "# figure parameters\n",
    "r = 2   # number of rows\n",
    "c = 2   # number of columns\n",
    "\n",
    "# defines a for loop to plot the coordinate modes {ζkℓ,Skℓ} for each value of k\n",
    "for j in range(len(k_list)):\n",
    "  k = k_list[j]  # sets k to be equal to each value of the k_list per iteration\n",
    "\n",
    "  # prints the respective k interval\n",
    "  if j==0:\n",
    "    k_text = r'k << kζζ'\n",
    "    k_val_text = r'$k = k_{\\zeta\\zeta}/1000$'\n",
    "    k_name = 'k_dust'\n",
    "  if j==1:\n",
    "    k_text = 'kζζ < k < kc'\n",
    "    k_val_text = r'$k = \\sqrt{k_{\\zeta\\zeta}k_{c}}$'\n",
    "    k_name = 'k_trans'\n",
    "  if j==2:\n",
    "    print()\n",
    "    k_text = 'kc << k'\n",
    "    k_val_text = r'$k = 1000k_{c}$'\n",
    "    k_name = 'k_rad'\n",
    "  print(k_text)\n",
    "\n",
    "  # Defines one r x c figure per value of k\n",
    "  fig, ax = plt.subplots(r,c, figsize=(14, 10))                                               # sets the size of the figure\n",
    "  fig.tight_layout()                                                                          # sets the size of each plot within the figure\n",
    "  fig.subplots_adjust(left=None, bottom=None, right=None, top=None, wspace=0.1, hspace=0.5)   # sets the space between each plot\n",
    "\n",
    "  # Defining the modes\n",
    "  init1 = mode1_list[j]         # defines a variable associated to the modes of Initial Condition 1 per each value of k\n",
    "  init2 = mode2_list[j]         # defines a variable associated to the modes of Initial Condition 2 per each value of k\n",
    "  twofluid_k = model_list[j]    # defines a variable associated to the models per each value of k\n",
    "\n",
    "  # Plots the Adiabatic Modes\n",
    "  ax[0,0].plot(a(init1.t)/aB, init1.zeta_r() , label = r'$\\zeta_{k1}(\\alpha)$', color='red')                         # plots ζk1, the adiabatic mode associated to Initial Condition 1\n",
    "  ax[0,0].plot(a(init2.t)/aB, init2.zeta_r(), label = r'$\\zeta_{k2}(\\alpha)$' , color='blue')                        # plots ζk2, the adiabatic mode associated to Initial Condition 2\n",
    "\n",
    "  # Plots the Entropy Modes\n",
    "  ax[0,1].plot(a(init1.t)/aB, init1.s_r(), label=r'$S_{k1}(\\alpha)$', color='red')                                   # plots Sk1, the entropy mode associated to Initial Condition 1\n",
    "  ax[0,1].plot(a(init2.t)/aB, init2.s_r(), label=r'$S_{k2}(\\alpha)$', color='blue')                                  # plots Sk2, the entropy mode associated to Initial Condition 2\n",
    "\n",
    "  # Adiabatic Effective Couplings\n",
    "  ax[1,0].plot(a_c, twofluid_k.nuz**2, label = r'$\\nu^{2}_{\\zeta}$', color='blue')                    # plots νζ², the frequency squared  of the adiabatic modes\n",
    "  ax[1,0].plot(a_c, np.abs(twofluid_k.Rh_z), label=r'$|R^{-1}_{H\\zeta}|$', color='black')                        # plots R⁻¹_Hζ, the inverse effective adiabatic Hubble radius\n",
    "  ax[1,0].plot(a_c, np.abs(twofluid_k.aleph_zs) * (k**2), label=r'$\\aleph_{\\zeta S}$', color='green')     # plots ℵ_ζS, adiabatic-to-entropy sub-Hubble coupling\n",
    "  ax[1,0].plot(a_c, np.abs(twofluid_k.beth_zs), label=r'$\\beth_{\\zeta S}$', color='orange')               # plots ℶ_ζS, adiabatic-to-entropy super-Hubble coupling\n",
    "  #ax[1,0].plot(alpha_c, twofluid_k.wz, label=r'$\\omega^{2}_{\\zeta}$', color='pink')                          # plots the ωζ, the frequency of the adiabatic Mukhanov-Sasaki variable\n",
    "\n",
    "  # Entropy Effective Couplings\n",
    "  ax[1,1].plot(a_c, twofluid_k.nus**2, label = r'$\\nu^{2}_{S}$', color='blue')                        # plots the frequency squared νS² of the entropy modes\n",
    "  ax[1,1].plot(a_c, np.abs( twofluid_k.Rh_s ), label=r'$|R^{-1}_{H S}|$', color='black')                         # plots R⁻¹_HS, the inverse effective adiabatic Hubble radius\n",
    "  ax[1,1].plot(a_c, np.abs(twofluid_k.aleph_sz) * (k**2), label=r'$\\aleph_{S\\zeta}$', color='green')      # plots ℵ_Sζ, entropy-to-adiabatic sub-Hubble coupling\n",
    "  ax[1,1].plot(a_c, np.abs(twofluid_k.beth_sz), label=r'$\\beth_{S\\zeta}$', color='orange')                # plots ℶ_Sζ, entropy-to-adiabatic super-Hubble coupling\n",
    "  #ax[1,1].plot(alpha_c, twofluid_k.ws, label=r'$\\omega^{2}_{S}$', color='brown')                             # plots the ωS, the frequency of the entropy Mukhanov-Sasaki variable\n",
    "\n",
    "  ##################################################################################################################################################################################################\n",
    "\n",
    "  # Legends\n",
    "\n",
    "  # Titles\n",
    "  ax[0,0].set_title(r'$\\zeta_{k}(\\alpha)$' + \"$, k =$\" + k_val_text )                               # sets the legend of the adiabatic modes plot\n",
    "  ax[0,1].set_title(r'$S_{k}(\\alpha)$' + \"$, k =$\" + k_val_text )                                   # sets the legend of the entropy modes plot\n",
    "  ax[1,0].set_title(r'$\\nu^{2}_{\\zeta}, R^{-1}_{H\\zeta}, \\aleph_{\\zeta S}, \\beth_{\\zeta S}$')       # sets the legend of the adiabatic effective couplings plot\n",
    "  ax[1,1].set_title(r'$\\nu^{2}_{S}, R^{-1}_{H S}, \\aleph_{S\\zeta}, \\beth_{S\\zeta}$')                # sets the legend of the entropy effective couplings plot\n",
    "\n",
    "  # Sets the y labels\n",
    "  ax[0,0].set_ylabel(r'$\\zeta_{k}(\\alpha)$')    # sets a label to the y axis of the norm of adiabatic modes plot for Initial Condition 1\n",
    "  ax[0,1].set_ylabel(r'$S_{k}(\\alpha)$')        # sets a label to the y axis of the norm of entropy modes plot for Initial Condition 1\n",
    "\n",
    "\n",
    "  # creates loops to iterate over each graph\n",
    "  for i in range(r):                                      # iterates over each row\n",
    "    for j in range(c):                                    # iterates over each column\n",
    "\n",
    "      # Characteristic Transition Times\n",
    "      ax[i,j].axvline(x = az/aB, color='olive', linestyle=':', label=r'$a_{\\zeta}$')                  # plots aζ, the characteristic time instant for which the speed of sound of the adiabatic mode starts to vary\n",
    "      ax[i,j].axvline(x = aS/aB, color='brown', linestyle=':', label=r'$a_{S}$')                      # plots aS, the characteristic time instant for which the speed of sound of the entropy mode starts to vary\n",
    "      ax[i,j].axvline(x = ac/aB, color='yellow', linestyle=':', label=r'$a_{c}$')                     # plots ac, the transition time instant\n",
    "\n",
    "      # Horizon Crossing Times of each mode\n",
    "      ax[i,j].axvline(x = a(twofluid_k.cross_z(k))/aB, color='purple', linestyle='--', label=r'$a^{\\zeta}_{ cross }$ = ' + f\"{a(twofluid_k.cross_z(k)):.2e}\" ) # plots the time for which the adiabatic mode frequency coincides with its effective Hubble radius\n",
    "      ax[i,j].axvline(x = a(twofluid_k.cross_s(k))/aB, color='orange', linestyle='--', label=r'$a^{S}_{ cross }$ = ' + f\"{a(twofluid_k.cross_s(k)):.2e}\" )     # plots the time for which the entropy mode frequency coincides with its effective Hubble radius\n",
    "      #ax[i,j].axvline(x = 1, color='black', linestyle=':', label=r'$\\alpha = \\alpha_{B} = 0$' )                                                            # plots the bouncing time instant\n",
    "\n",
    "\n",
    "      # Sets the y scales\n",
    "      ax[i,j].set_xscale('log')                           # sets a x log scale for the plots\n",
    "      ax[i,j].set_xlim(a_c[0],a_c[-1])                    # sets the x limits\n",
    "      if i < 1:\n",
    "        ax[i,j].set_yscale('symlog', linthresh=1e-20)     # sets a log scale that allows negative values for the mode plots\n",
    "        ax[i,j].legend(fontsize=15)                       # shows the legend and sets the legend font size\n",
    "      else:\n",
    "        ax[i,j].set_yscale('log')                         # sets a log scale for the effective couplings plots\n",
    "        ax[i,j].legend(fontsize=12)                       # shows the legend and sets the legend font size\n",
    "\n",
    "\n",
    "      # Labels\n",
    "      ax[i,j].set_xlabel(r'$a/a_{\\hbox{B}}$')    # sets a label to x axis as time\n",
    "      #ax[i,j].legend()                   # prints the legend\n",
    "\n",
    "  #print('k ~ '+str(f\"{k:.2e}\"))     # prints the value of k for each mode\n",
    "\n",
    "  # a separator between each plot\n",
    "  print('-------------------------------------------------------------------------------------------------------------------------------------------------------------')\n",
    "\n",
    "###############################################################################################################################\n",
    "\n",
    "  # shows the figure per each mode\n",
    "  plt.savefig(f\"graphs/\"+k_name+\".pdf\", bbox_inches=\"tight\")       # saves the figure\n",
    "  plt.show()"
   ]
  },
  {
   "cell_type": "code",
   "execution_count": null,
   "id": "pgtX1Qc0vrPR",
   "metadata": {
    "id": "pgtX1Qc0vrPR"
   },
   "outputs": [],
   "source": []
  }
 ],
 "metadata": {
  "colab": {
   "collapsed_sections": [
    "152b1c34",
    "SSYdpVinZzn1",
    "Gu2j7JMwbD8W"
   ],
   "provenance": []
  },
  "kernelspec": {
   "display_name": "Python (firecrown20.0)",
   "language": "python",
   "name": "firecrown_20"
  },
  "language_info": {
   "codemirror_mode": {
    "name": "ipython",
    "version": 3
   },
   "file_extension": ".py",
   "mimetype": "text/x-python",
   "name": "python",
   "nbconvert_exporter": "python",
   "pygments_lexer": "ipython3",
   "version": "3.13.0"
  }
 },
 "nbformat": 4,
 "nbformat_minor": 5
}
