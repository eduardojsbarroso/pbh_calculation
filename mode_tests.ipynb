{
 "cells": [
  {
   "cell_type": "code",
   "execution_count": 1,
   "id": "72decdb9-9c23-42de-959a-ec08db5addda",
   "metadata": {},
   "outputs": [
    {
     "name": "stdout",
     "output_type": "stream",
     "text": [
      "1.2661112352460809e-26\n",
      "-220\n",
      "t0: -217.57604133190668\n",
      "-------------------\n",
      "1.2661049688837743e-42\n",
      "-300\n"
     ]
    },
    {
     "name": "stderr",
     "output_type": "stream",
     "text": [
      "\n",
      "[CVODE ERROR]  cvInitialSetup\n",
      "  Initial ewt has component(s) equal to zero (illegal).\n",
      "\n",
      "NUMCOSMO-Message: 11:50:08.360: \n",
      "SUNDIALS_ERROR: CVode[nc_hipert_two_fluids_evolve_array]() failed with flag = -22\n",
      "\n",
      "\n"
     ]
    },
    {
     "ename": "AttributeError",
     "evalue": "'NoneType' object has no attribute 'get_col'",
     "output_type": "error",
     "traceback": [
      "\u001b[31m---------------------------------------------------------------------------\u001b[39m",
      "\u001b[31mAttributeError\u001b[39m                            Traceback (most recent call last)",
      "\u001b[36mCell\u001b[39m\u001b[36m \u001b[39m\u001b[32mIn[1]\u001b[39m\u001b[32m, line 54\u001b[39m\n\u001b[32m     52\u001b[39m \u001b[38;5;28mprint\u001b[39m(k_values[j])\n\u001b[32m     53\u001b[39m k_RH = k_values[j]\n\u001b[32m---> \u001b[39m\u001b[32m54\u001b[39m zeta2 = \u001b[43mtf\u001b[49m\u001b[43m.\u001b[49m\u001b[43mmode_2\u001b[49m\u001b[43m(\u001b[49m\u001b[43mk_RH\u001b[49m\u001b[43m,\u001b[49m\u001b[43m \u001b[49m\u001b[43mtwofluid\u001b[49m\u001b[43m,\u001b[49m\u001b[43m \u001b[49m\u001b[43mp1\u001b[49m\u001b[43m,\u001b[49m\u001b[43m \u001b[49m\u001b[43mp2\u001b[49m\u001b[43m,\u001b[49m\u001b[43m \u001b[49m\u001b[43m-\u001b[49m\u001b[32;43m286\u001b[39;49m\u001b[43m,\u001b[49m\u001b[43m \u001b[49m\u001b[43mprec\u001b[49m\u001b[43m=\u001b[49m\u001b[43mprec_list\u001b[49m\u001b[43m[\u001b[49m\u001b[43mj\u001b[49m\u001b[43m]\u001b[49m\u001b[43m,\u001b[49m\u001b[43m \u001b[49m\u001b[43mcross_size\u001b[49m\u001b[43m \u001b[49m\u001b[43m=\u001b[49m\u001b[43m \u001b[49m\u001b[43mcross_size_list\u001b[49m\u001b[43m[\u001b[49m\u001b[43mj\u001b[49m\u001b[43m]\u001b[49m\u001b[43m,\u001b[49m\u001b[43m \u001b[49m\u001b[43malpha_try\u001b[49m\u001b[43m \u001b[49m\u001b[43m=\u001b[49m\u001b[43m \u001b[49m\u001b[43malpha_try_list\u001b[49m\u001b[43m[\u001b[49m\u001b[43mj\u001b[49m\u001b[43m]\u001b[49m\u001b[43m \u001b[49m\u001b[43m)\u001b[49m\n\u001b[32m     55\u001b[39m \u001b[38;5;28mprint\u001b[39m(\u001b[33m'\u001b[39m\u001b[33mt0: \u001b[39m\u001b[33m'\u001b[39m + \u001b[38;5;28mstr\u001b[39m(zeta2.t[\u001b[32m0\u001b[39m]) )\n\u001b[32m     56\u001b[39m \u001b[38;5;28mprint\u001b[39m(\u001b[33m'\u001b[39m\u001b[33m-------------------\u001b[39m\u001b[33m'\u001b[39m)\n",
      "\u001b[36mFile \u001b[39m\u001b[32m/sps/lsst/users/ebarroso/pbh_calculation/two_fluid_key.py:815\u001b[39m, in \u001b[36mmode_2.__init__\u001b[39m\u001b[34m(self, k, cosmo, precision1, precision2, max_time, prec, cross_size, alpha_try)\u001b[39m\n\u001b[32m    813\u001b[39m \u001b[38;5;28;01mdef\u001b[39;00m\u001b[38;5;250m \u001b[39m\u001b[34m__init__\u001b[39m(\u001b[38;5;28mself\u001b[39m, k, cosmo, precision1=\u001b[32m1e-8\u001b[39m, precision2 = \u001b[32m1\u001b[39m, max_time=-\u001b[32m1\u001b[39m, prec=\u001b[32m1e-8\u001b[39m, cross_size=\u001b[32m1e-6\u001b[39m, alpha_try=-\u001b[32m120\u001b[39m):\n\u001b[32m    814\u001b[39m   \u001b[38;5;28mself\u001b[39m.NcmMatrix = solve_mode2(k, cosmo, precision1, precision2, max_time, prec=prec, cross_size = cross_size, alpha_try = alpha_try)\n\u001b[32m--> \u001b[39m\u001b[32m815\u001b[39m   \u001b[38;5;28mself\u001b[39m.t = np.array(\u001b[38;5;28;43mself\u001b[39;49m\u001b[43m.\u001b[49m\u001b[43mNcmMatrix\u001b[49m\u001b[43m.\u001b[49m\u001b[43mget_col\u001b[49m(\u001b[32m0\u001b[39m).dup_array())\n\u001b[32m    816\u001b[39m   \u001b[38;5;28mself\u001b[39m.model = cosmo\n\u001b[32m    817\u001b[39m   \u001b[38;5;28mself\u001b[39m.k = k\n",
      "\u001b[31mAttributeError\u001b[39m: 'NoneType' object has no attribute 'get_col'"
     ]
    }
   ],
   "source": [
    "# Basic Libraries\n",
    "f1 = 1\n",
    "import sys                                                        # imports the usual sys library\n",
    "import math                                                       # imports the usual math library\n",
    "import numpy as np                                                # imports the Numpy Library\n",
    "from tqdm import tqdm                                             # imports the tqdm library\n",
    "from scipy.integrate import quad                                  # imports the integration command quad from the scipy library\n",
    "import matplotlib as mpl                                          # imports the full Matplotlib Library\n",
    "import matplotlib.pyplot as plt                                   # imports the pyplot module from Matplotlib Library\n",
    "import matplotlib.colors as colors                                # impors the colors module from Matplotlib Library\n",
    "import matplotlib.cm as cmx                                       # imports the cmx module from Matplotlib Library\n",
    "#mpl.rcParams['text.usetex'] = True                                # enables the use of TeX on graphs\n",
    "#plt.rc('text.latex', preamble=r'\\usepackage{amssymb}')            # sets the preamble for TeX\n",
    "\n",
    "\n",
    "# Importing the NumCosmo Library\n",
    "from numcosmo_py import Nc, Ncm                                   # imports the NumCosmo library\n",
    "from numcosmo_py.plotting.tools import set_rc_params_article      # imports Numcosmo plotting tools\n",
    "\n",
    "# Imports useful commands for the 2fluid model\n",
    "import two_fluid_key as tf                                        # imports the two_fluid_key.py file, where the relevant quantities are defined\n",
    "\n",
    "# definition of the model\n",
    "\n",
    "twofluid = Nc.HICosmoQGRW()                                  # defines a cosmological model, which is represented by a NumCosmo object. Then, the relevant cosmological parameters are added to this object\n",
    "\n",
    "# these lines set the relevant cosmological parameters\n",
    "k = 1.0         # sets a fiducial value of k\n",
    "Ωr = 1.0e-5     # abundance of radiation\n",
    "w = 1.0e-5      # equation of state parameter of dark matter\n",
    "xb = 1e30       # inverse of scale factor at the bounce, xb = 1/ab\n",
    "\n",
    "# this lines set the attributes of the cosmological model\n",
    "twofluid.props.w = w                                         # dust/dark matter equation of state parameter\n",
    "twofluid.props.Omegar = Ωr                                   # radiation abundance today\n",
    "twofluid.props.Omegaw = 1.0 * ( 1.0 - Ωr )                   # dust/dark matter abundance today\n",
    "twofluid.props.xb = xb                                       # inverse scale factor xb=1/ab at the time of the bounce\n",
    "\n",
    "# evolution of the model\n",
    "#twofluid_c = tf.model_evol(twofluid,alpha_c,k)               # evolves the equations of motion for during the contraction phase using the twofluid_key.py commands\n",
    "\n",
    "# precision parameters\n",
    "p1 = 1.0e-4\n",
    "p2 = 0.0\n",
    "\n",
    "k_values = [1.2661112352460809e-26, 1.2661049688837743e-42, 1.2661049688837736e-53]\n",
    "\n",
    "prec_list = [1e-8, 1e-8, 1e-8]\n",
    "cross_size_list = [1e-8, 1e-8, 1e-8]\n",
    "alpha_try_list = [-220, -300, -250]\n",
    "for j in range(len(k_values)):\n",
    "    print(k_values[j])\n",
    "    k_RH = k_values[j]\n",
    "    zeta2 = tf.mode_2(k_RH, twofluid, p1, p2, -286, prec=prec_list[j], cross_size = cross_size_list[j], alpha_try = alpha_try_list[j] )\n",
    "    print('t0: ' + str(zeta2.t[0]) )\n",
    "    print('-------------------')"
   ]
  },
  {
   "cell_type": "code",
   "execution_count": null,
   "id": "694ce3a1-292f-432f-95cb-3ad88bf9c43a",
   "metadata": {},
   "outputs": [],
   "source": []
  },
  {
   "cell_type": "code",
   "execution_count": null,
   "id": "51fa67a7-acb0-485b-85c7-5c7edf86a11a",
   "metadata": {},
   "outputs": [],
   "source": []
  }
 ],
 "metadata": {
  "kernelspec": {
   "display_name": "Python (firecrown20.0)",
   "language": "python",
   "name": "firecrown_20"
  },
  "language_info": {
   "codemirror_mode": {
    "name": "ipython",
    "version": 3
   },
   "file_extension": ".py",
   "mimetype": "text/x-python",
   "name": "python",
   "nbconvert_exporter": "python",
   "pygments_lexer": "ipython3",
   "version": "3.13.0"
  }
 },
 "nbformat": 4,
 "nbformat_minor": 5
}
