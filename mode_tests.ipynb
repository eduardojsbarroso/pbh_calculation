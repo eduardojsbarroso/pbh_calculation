{
 "cells": [
  {
   "cell_type": "code",
   "execution_count": 5,
   "id": "72decdb9-9c23-42de-959a-ec08db5addda",
   "metadata": {},
   "outputs": [
    {
     "name": "stdout",
     "output_type": "stream",
     "text": [
      "0.001\n",
      "-120\n",
      "t0: -155.88261316309934\n",
      "-------------------\n"
     ]
    }
   ],
   "source": [
    "# Basic Libraries\n",
    "f1 = 1\n",
    "import sys                                                        # imports the usual sys library\n",
    "import math                                                       # imports the usual math library\n",
    "import numpy as np                                                # imports the Numpy Library\n",
    "from tqdm import tqdm                                             # imports the tqdm library\n",
    "from scipy.integrate import quad                                  # imports the integration command quad from the scipy library\n",
    "import matplotlib as mpl                                          # imports the full Matplotlib Library\n",
    "import matplotlib.pyplot as plt                                   # imports the pyplot module from Matplotlib Library\n",
    "import matplotlib.colors as colors                                # impors the colors module from Matplotlib Library\n",
    "import matplotlib.cm as cmx                                       # imports the cmx module from Matplotlib Library\n",
    "#mpl.rcParams['text.usetex'] = True                                # enables the use of TeX on graphs\n",
    "#plt.rc('text.latex', preamble=r'\\usepackage{amssymb}')            # sets the preamble for TeX\n",
    "\n",
    "\n",
    "# Importing the NumCosmo Library\n",
    "from numcosmo_py import Nc, Ncm                                   # imports the NumCosmo library\n",
    "from numcosmo_py.plotting.tools import set_rc_params_article      # imports Numcosmo plotting tools\n",
    "\n",
    "# Imports useful commands for the 2fluid model\n",
    "import two_fluid_key as tf                                        # imports the two_fluid_key.py file, where the relevant quantities are defined\n",
    "\n",
    "# definition of the model\n",
    "\n",
    "twofluid = Nc.HICosmoQGRW()                                  # defines a cosmological model, which is represented by a NumCosmo object. Then, the relevant cosmological parameters are added to this object\n",
    "\n",
    "# these lines set the relevant cosmological parameters\n",
    "k = 1.0         # sets a fiducial value of k\n",
    "Ωr = 1.0e-5     # abundance of radiation\n",
    "w = 1.0e-7      # equation of state parameter of dark matter\n",
    "xb = 1e45       # inverse of scale factor at the bounce, xb = 1/ab\n",
    "\n",
    "# this lines set the attributes of the cosmological model\n",
    "twofluid.props.w = w                                         # dust/dark matter equation of state parameter\n",
    "twofluid.props.Omegar = Ωr                                   # radiation abundance today\n",
    "twofluid.props.Omegaw = 1.0 * ( 1.0 - Ωr )                   # dust/dark matter abundance today\n",
    "twofluid.props.xb = xb                                       # inverse scale factor xb=1/ab at the time of the bounce\n",
    "\n",
    "# evolution of the model\n",
    "#twofluid_c = tf.model_evol(twofluid,alpha_c,k)               # evolves the equations of motion for during the contraction phase using the twofluid_key.py commands\n",
    "\n",
    "# precision parameters\n",
    "p1 = 1.0e-4\n",
    "p2 = 0.0\n",
    "\n",
    "k_values = [0.001]\n",
    "prec_list = [1e-8, 1e-8, 1e-8, 1e-8, 1e-8, 1e-8, 1e-8, 1e-8, 1e-8]\n",
    "cross_size_list = [1e-10, 1e-40,1e-40, 1e-40, 1e-40,1e-40, 1e-40, 1e-40,1e-40]\n",
    "alpha_try_list = [-160,-160,-160,-160,-160,-160,-160,-160]\n",
    "for j in range(len(k_values)):\n",
    "    print(k_values[j])\n",
    "    k_RH = k_values[j]\n",
    "    zeta2 = tf.mode_2(k_RH, twofluid, p1, p2, -130, prec=prec_list[j], cross_size = cross_size_list[j])\n",
    "    print('t0: ' + str(zeta2.t[0]) )\n",
    "    print('-------------------')"
   ]
  },
  {
   "cell_type": "code",
   "execution_count": 6,
   "id": "51fa67a7-acb0-485b-85c7-5c7edf86a11a",
   "metadata": {},
   "outputs": [
    {
     "data": {
      "text/plain": [
       "array([-155.88261316, -155.8670249 , -155.85143819, ..., -130.02869968,\n",
       "       -130.01543692, -130.00217416], shape=(1806,))"
      ]
     },
     "execution_count": 6,
     "metadata": {},
     "output_type": "execute_result"
    }
   ],
   "source": [
    "zeta2.t"
   ]
  },
  {
   "cell_type": "code",
   "execution_count": null,
   "id": "4e19bb87-9c89-4d20-be52-2173e975b55a",
   "metadata": {},
   "outputs": [],
   "source": []
  }
 ],
 "metadata": {
  "kernelspec": {
   "display_name": "Python (firecrown20.0)",
   "language": "python",
   "name": "firecrown_20"
  },
  "language_info": {
   "codemirror_mode": {
    "name": "ipython",
    "version": 3
   },
   "file_extension": ".py",
   "mimetype": "text/x-python",
   "name": "python",
   "nbconvert_exporter": "python",
   "pygments_lexer": "ipython3",
   "version": "3.13.0"
  }
 },
 "nbformat": 4,
 "nbformat_minor": 5
}
